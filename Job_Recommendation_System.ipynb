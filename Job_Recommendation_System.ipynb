{
 "cells": [
  {
   "cell_type": "markdown",
   "id": "7da535a5",
   "metadata": {},
   "source": [
    "## Importing libraries"
   ]
  },
  {
   "cell_type": "code",
   "execution_count": 1,
   "id": "ceb277e3",
   "metadata": {},
   "outputs": [],
   "source": [
    "import pandas as pd\n",
    "import numpy as np\n",
    "import nltk"
   ]
  },
  {
   "cell_type": "markdown",
   "id": "006fe2d9",
   "metadata": {},
   "source": [
    "## Load the data"
   ]
  },
  {
   "cell_type": "markdown",
   "id": "6b3f041e",
   "metadata": {},
   "source": [
    "### Loading the jobs dataset"
   ]
  },
  {
   "cell_type": "code",
   "execution_count": 2,
   "id": "ebe40ec8",
   "metadata": {},
   "outputs": [
    {
     "data": {
      "text/html": [
       "<div>\n",
       "<style scoped>\n",
       "    .dataframe tbody tr th:only-of-type {\n",
       "        vertical-align: middle;\n",
       "    }\n",
       "\n",
       "    .dataframe tbody tr th {\n",
       "        vertical-align: top;\n",
       "    }\n",
       "\n",
       "    .dataframe thead th {\n",
       "        text-align: right;\n",
       "    }\n",
       "</style>\n",
       "<table border=\"1\" class=\"dataframe\">\n",
       "  <thead>\n",
       "    <tr style=\"text-align: right;\">\n",
       "      <th></th>\n",
       "      <th>Job.ID</th>\n",
       "      <th>Provider</th>\n",
       "      <th>Status</th>\n",
       "      <th>Slug</th>\n",
       "      <th>Title</th>\n",
       "      <th>Position</th>\n",
       "      <th>Company</th>\n",
       "      <th>City</th>\n",
       "      <th>State.Name</th>\n",
       "      <th>State.Code</th>\n",
       "      <th>...</th>\n",
       "      <th>Industry</th>\n",
       "      <th>Job.Description</th>\n",
       "      <th>Requirements</th>\n",
       "      <th>Salary</th>\n",
       "      <th>Listing.Start</th>\n",
       "      <th>Listing.End</th>\n",
       "      <th>Employment.Type</th>\n",
       "      <th>Education.Required</th>\n",
       "      <th>Created.At</th>\n",
       "      <th>Updated.At</th>\n",
       "    </tr>\n",
       "  </thead>\n",
       "  <tbody>\n",
       "    <tr>\n",
       "      <th>0</th>\n",
       "      <td>111</td>\n",
       "      <td>1</td>\n",
       "      <td>open</td>\n",
       "      <td>palo-alto-ca-tacolicious-server</td>\n",
       "      <td>Server @ Tacolicious</td>\n",
       "      <td>Server</td>\n",
       "      <td>Tacolicious</td>\n",
       "      <td>Palo Alto</td>\n",
       "      <td>California</td>\n",
       "      <td>CA</td>\n",
       "      <td>...</td>\n",
       "      <td>Food and Beverages</td>\n",
       "      <td>Tacolicious' first Palo Alto store just opened...</td>\n",
       "      <td>NaN</td>\n",
       "      <td>8.00</td>\n",
       "      <td>NaN</td>\n",
       "      <td>NaN</td>\n",
       "      <td>Part-Time</td>\n",
       "      <td>NaN</td>\n",
       "      <td>2013-03-12 02:08:28 UTC</td>\n",
       "      <td>2014-08-16 15:35:36 UTC</td>\n",
       "    </tr>\n",
       "    <tr>\n",
       "      <th>1</th>\n",
       "      <td>113</td>\n",
       "      <td>1</td>\n",
       "      <td>open</td>\n",
       "      <td>san-francisco-ca-claude-lane-kitchen-staff-chef</td>\n",
       "      <td>Kitchen Staff/Chef @ Claude Lane</td>\n",
       "      <td>Kitchen Staff/Chef</td>\n",
       "      <td>Claude Lane</td>\n",
       "      <td>San Francisco</td>\n",
       "      <td>California</td>\n",
       "      <td>CA</td>\n",
       "      <td>...</td>\n",
       "      <td>Food and Beverages</td>\n",
       "      <td>\\r\\n\\r\\nNew French Brasserie in S.F. Financia...</td>\n",
       "      <td>NaN</td>\n",
       "      <td>0.00</td>\n",
       "      <td>NaN</td>\n",
       "      <td>NaN</td>\n",
       "      <td>Part-Time</td>\n",
       "      <td>NaN</td>\n",
       "      <td>2013-04-12 08:36:36 UTC</td>\n",
       "      <td>2014-08-16 15:35:36 UTC</td>\n",
       "    </tr>\n",
       "    <tr>\n",
       "      <th>2</th>\n",
       "      <td>117</td>\n",
       "      <td>1</td>\n",
       "      <td>open</td>\n",
       "      <td>san-francisco-ca-machka-restaurants-corp-barte...</td>\n",
       "      <td>Bartender @ Machka Restaurants Corp.</td>\n",
       "      <td>Bartender</td>\n",
       "      <td>Machka Restaurants Corp.</td>\n",
       "      <td>San Francisco</td>\n",
       "      <td>California</td>\n",
       "      <td>CA</td>\n",
       "      <td>...</td>\n",
       "      <td>Food and Beverages</td>\n",
       "      <td>We are a popular Mediterranean wine bar and re...</td>\n",
       "      <td>NaN</td>\n",
       "      <td>11.00</td>\n",
       "      <td>NaN</td>\n",
       "      <td>NaN</td>\n",
       "      <td>Part-Time</td>\n",
       "      <td>NaN</td>\n",
       "      <td>2013-07-16 09:34:10 UTC</td>\n",
       "      <td>2014-08-16 15:35:37 UTC</td>\n",
       "    </tr>\n",
       "    <tr>\n",
       "      <th>3</th>\n",
       "      <td>121</td>\n",
       "      <td>1</td>\n",
       "      <td>open</td>\n",
       "      <td>brisbane-ca-teriyaki-house-server</td>\n",
       "      <td>Server @ Teriyaki House</td>\n",
       "      <td>Server</td>\n",
       "      <td>Teriyaki House</td>\n",
       "      <td>Brisbane</td>\n",
       "      <td>California</td>\n",
       "      <td>CA</td>\n",
       "      <td>...</td>\n",
       "      <td>Food and Beverages</td>\n",
       "      <td>● Serve food/drinks to customers in a profess...</td>\n",
       "      <td>NaN</td>\n",
       "      <td>10.55</td>\n",
       "      <td>NaN</td>\n",
       "      <td>NaN</td>\n",
       "      <td>Part-Time</td>\n",
       "      <td>NaN</td>\n",
       "      <td>2013-09-04 15:40:30 UTC</td>\n",
       "      <td>2014-08-16 15:35:38 UTC</td>\n",
       "    </tr>\n",
       "    <tr>\n",
       "      <th>4</th>\n",
       "      <td>127</td>\n",
       "      <td>1</td>\n",
       "      <td>open</td>\n",
       "      <td>los-angeles-ca-rosa-mexicano-sunset-kitchen-st...</td>\n",
       "      <td>Kitchen Staff/Chef @ Rosa Mexicano - Sunset</td>\n",
       "      <td>Kitchen Staff/Chef</td>\n",
       "      <td>Rosa Mexicano - Sunset</td>\n",
       "      <td>Los Angeles</td>\n",
       "      <td>California</td>\n",
       "      <td>CA</td>\n",
       "      <td>...</td>\n",
       "      <td>Food and Beverages</td>\n",
       "      <td>Located at the heart of Hollywood, we are one ...</td>\n",
       "      <td>NaN</td>\n",
       "      <td>10.55</td>\n",
       "      <td>NaN</td>\n",
       "      <td>NaN</td>\n",
       "      <td>Part-Time</td>\n",
       "      <td>NaN</td>\n",
       "      <td>2013-07-17 15:26:18 UTC</td>\n",
       "      <td>2014-08-16 15:35:40 UTC</td>\n",
       "    </tr>\n",
       "  </tbody>\n",
       "</table>\n",
       "<p>5 rows × 23 columns</p>\n",
       "</div>"
      ],
      "text/plain": [
       "   Job.ID  Provider Status                                               Slug  \\\n",
       "0     111         1   open                    palo-alto-ca-tacolicious-server   \n",
       "1     113         1   open    san-francisco-ca-claude-lane-kitchen-staff-chef   \n",
       "2     117         1   open  san-francisco-ca-machka-restaurants-corp-barte...   \n",
       "3     121         1   open                  brisbane-ca-teriyaki-house-server   \n",
       "4     127         1   open  los-angeles-ca-rosa-mexicano-sunset-kitchen-st...   \n",
       "\n",
       "                                         Title            Position  \\\n",
       "0                         Server @ Tacolicious              Server   \n",
       "1             Kitchen Staff/Chef @ Claude Lane  Kitchen Staff/Chef   \n",
       "2         Bartender @ Machka Restaurants Corp.           Bartender   \n",
       "3                      Server @ Teriyaki House              Server   \n",
       "4  Kitchen Staff/Chef @ Rosa Mexicano - Sunset  Kitchen Staff/Chef   \n",
       "\n",
       "                    Company           City  State.Name State.Code  ...  \\\n",
       "0               Tacolicious      Palo Alto  California         CA  ...   \n",
       "1               Claude Lane  San Francisco  California         CA  ...   \n",
       "2  Machka Restaurants Corp.  San Francisco  California         CA  ...   \n",
       "3            Teriyaki House       Brisbane  California         CA  ...   \n",
       "4    Rosa Mexicano - Sunset    Los Angeles  California         CA  ...   \n",
       "\n",
       "             Industry                                    Job.Description  \\\n",
       "0  Food and Beverages  Tacolicious' first Palo Alto store just opened...   \n",
       "1  Food and Beverages   \\r\\n\\r\\nNew French Brasserie in S.F. Financia...   \n",
       "2  Food and Beverages  We are a popular Mediterranean wine bar and re...   \n",
       "3  Food and Beverages   ● Serve food/drinks to customers in a profess...   \n",
       "4  Food and Beverages  Located at the heart of Hollywood, we are one ...   \n",
       "\n",
       "   Requirements Salary Listing.Start  Listing.End  Employment.Type  \\\n",
       "0           NaN   8.00           NaN          NaN        Part-Time   \n",
       "1           NaN   0.00           NaN          NaN        Part-Time   \n",
       "2           NaN  11.00           NaN          NaN        Part-Time   \n",
       "3           NaN  10.55           NaN          NaN        Part-Time   \n",
       "4           NaN  10.55           NaN          NaN        Part-Time   \n",
       "\n",
       "  Education.Required               Created.At               Updated.At  \n",
       "0                NaN  2013-03-12 02:08:28 UTC  2014-08-16 15:35:36 UTC  \n",
       "1                NaN  2013-04-12 08:36:36 UTC  2014-08-16 15:35:36 UTC  \n",
       "2                NaN  2013-07-16 09:34:10 UTC  2014-08-16 15:35:37 UTC  \n",
       "3                NaN  2013-09-04 15:40:30 UTC  2014-08-16 15:35:38 UTC  \n",
       "4                NaN  2013-07-17 15:26:18 UTC  2014-08-16 15:35:40 UTC  \n",
       "\n",
       "[5 rows x 23 columns]"
      ]
     },
     "execution_count": 2,
     "metadata": {},
     "output_type": "execute_result"
    }
   ],
   "source": [
    "df_jobs = pd.read_csv(r\"Dataset\\Combined_Jobs_Final.csv\")\n",
    "df_jobs.head()\n"
   ]
  },
  {
   "cell_type": "code",
   "execution_count": 3,
   "id": "9599cc27",
   "metadata": {},
   "outputs": [
    {
     "name": "stdout",
     "output_type": "stream",
     "text": [
      "<class 'pandas.core.frame.DataFrame'>\n",
      "RangeIndex: 84090 entries, 0 to 84089\n",
      "Data columns (total 23 columns):\n",
      " #   Column              Non-Null Count  Dtype  \n",
      "---  ------              --------------  -----  \n",
      " 0   Job.ID              84090 non-null  int64  \n",
      " 1   Provider            84090 non-null  int64  \n",
      " 2   Status              84090 non-null  object \n",
      " 3   Slug                84090 non-null  object \n",
      " 4   Title               84090 non-null  object \n",
      " 5   Position            84090 non-null  object \n",
      " 6   Company             81819 non-null  object \n",
      " 7   City                83955 non-null  object \n",
      " 8   State.Name          83919 non-null  object \n",
      " 9   State.Code          83919 non-null  object \n",
      " 10  Address             36 non-null     object \n",
      " 11  Latitude            84090 non-null  float64\n",
      " 12  Longitude           84090 non-null  float64\n",
      " 13  Industry            267 non-null    object \n",
      " 14  Job.Description     84034 non-null  object \n",
      " 15  Requirements        0 non-null      float64\n",
      " 16  Salary              229 non-null    float64\n",
      " 17  Listing.Start       83407 non-null  object \n",
      " 18  Listing.End         83923 non-null  object \n",
      " 19  Employment.Type     84080 non-null  object \n",
      " 20  Education.Required  83823 non-null  object \n",
      " 21  Created.At          84090 non-null  object \n",
      " 22  Updated.At          84090 non-null  object \n",
      "dtypes: float64(4), int64(2), object(17)\n",
      "memory usage: 14.8+ MB\n"
     ]
    }
   ],
   "source": [
    "df_jobs.info()"
   ]
  },
  {
   "cell_type": "markdown",
   "id": "b878e477",
   "metadata": {},
   "source": [
    "## Exploratory Data Analysis"
   ]
  },
  {
   "cell_type": "markdown",
   "id": "e49727b7",
   "metadata": {},
   "source": [
    "#### First check the NA's"
   ]
  },
  {
   "cell_type": "code",
   "execution_count": 4,
   "id": "0b9e7330",
   "metadata": {},
   "outputs": [
    {
     "data": {
      "text/plain": [
       "Job.ID                    0\n",
       "Provider                  0\n",
       "Status                    0\n",
       "Slug                      0\n",
       "Title                     0\n",
       "Position                  0\n",
       "Company                2271\n",
       "City                    135\n",
       "State.Name              171\n",
       "State.Code              171\n",
       "Address               84054\n",
       "Latitude                  0\n",
       "Longitude                 0\n",
       "Industry              83823\n",
       "Job.Description          56\n",
       "Requirements          84090\n",
       "Salary                83861\n",
       "Listing.Start           683\n",
       "Listing.End             167\n",
       "Employment.Type          10\n",
       "Education.Required      267\n",
       "Created.At                0\n",
       "Updated.At                0\n",
       "dtype: int64"
      ]
     },
     "execution_count": 4,
     "metadata": {},
     "output_type": "execute_result"
    }
   ],
   "source": [
    "df_jobs.isnull().sum()"
   ]
  },
  {
   "cell_type": "markdown",
   "id": "ee3b72b1",
   "metadata": {},
   "source": [
    " From the above list we see that there are lot of NaN values, perform data clean\n",
    " ing for each and every column"
   ]
  },
  {
   "cell_type": "markdown",
   "id": "b6967728",
   "metadata": {},
   "source": [
    "#### Selecting the columns for the jobs corpus\n"
   ]
  },
  {
   "cell_type": "markdown",
   "id": "8b8cab1b",
   "metadata": {},
   "source": [
    "For this example we only consider the columns: 'Job.ID', 'Title', 'Position', 'Company','City', 'Empl_type','Edu_req','Job_Description'"
   ]
  },
  {
   "cell_type": "code",
   "execution_count": 5,
   "id": "d624aa38",
   "metadata": {},
   "outputs": [
    {
     "data": {
      "text/html": [
       "<div>\n",
       "<style scoped>\n",
       "    .dataframe tbody tr th:only-of-type {\n",
       "        vertical-align: middle;\n",
       "    }\n",
       "\n",
       "    .dataframe tbody tr th {\n",
       "        vertical-align: top;\n",
       "    }\n",
       "\n",
       "    .dataframe thead th {\n",
       "        text-align: right;\n",
       "    }\n",
       "</style>\n",
       "<table border=\"1\" class=\"dataframe\">\n",
       "  <thead>\n",
       "    <tr style=\"text-align: right;\">\n",
       "      <th></th>\n",
       "      <th>Job.ID</th>\n",
       "      <th>Title</th>\n",
       "      <th>Position</th>\n",
       "      <th>Company</th>\n",
       "      <th>City</th>\n",
       "      <th>Empl_type</th>\n",
       "      <th>Job_Description</th>\n",
       "    </tr>\n",
       "  </thead>\n",
       "  <tbody>\n",
       "    <tr>\n",
       "      <th>0</th>\n",
       "      <td>111</td>\n",
       "      <td>Server @ Tacolicious</td>\n",
       "      <td>Server</td>\n",
       "      <td>Tacolicious</td>\n",
       "      <td>Palo Alto</td>\n",
       "      <td>Part-Time</td>\n",
       "      <td>Tacolicious' first Palo Alto store just opened...</td>\n",
       "    </tr>\n",
       "    <tr>\n",
       "      <th>1</th>\n",
       "      <td>113</td>\n",
       "      <td>Kitchen Staff/Chef @ Claude Lane</td>\n",
       "      <td>Kitchen Staff/Chef</td>\n",
       "      <td>Claude Lane</td>\n",
       "      <td>San Francisco</td>\n",
       "      <td>Part-Time</td>\n",
       "      <td>\\r\\n\\r\\nNew French Brasserie in S.F. Financia...</td>\n",
       "    </tr>\n",
       "    <tr>\n",
       "      <th>2</th>\n",
       "      <td>117</td>\n",
       "      <td>Bartender @ Machka Restaurants Corp.</td>\n",
       "      <td>Bartender</td>\n",
       "      <td>Machka Restaurants Corp.</td>\n",
       "      <td>San Francisco</td>\n",
       "      <td>Part-Time</td>\n",
       "      <td>We are a popular Mediterranean wine bar and re...</td>\n",
       "    </tr>\n",
       "    <tr>\n",
       "      <th>3</th>\n",
       "      <td>121</td>\n",
       "      <td>Server @ Teriyaki House</td>\n",
       "      <td>Server</td>\n",
       "      <td>Teriyaki House</td>\n",
       "      <td>Brisbane</td>\n",
       "      <td>Part-Time</td>\n",
       "      <td>● Serve food/drinks to customers in a profess...</td>\n",
       "    </tr>\n",
       "    <tr>\n",
       "      <th>4</th>\n",
       "      <td>127</td>\n",
       "      <td>Kitchen Staff/Chef @ Rosa Mexicano - Sunset</td>\n",
       "      <td>Kitchen Staff/Chef</td>\n",
       "      <td>Rosa Mexicano - Sunset</td>\n",
       "      <td>Los Angeles</td>\n",
       "      <td>Part-Time</td>\n",
       "      <td>Located at the heart of Hollywood, we are one ...</td>\n",
       "    </tr>\n",
       "  </tbody>\n",
       "</table>\n",
       "</div>"
      ],
      "text/plain": [
       "   Job.ID                                        Title            Position  \\\n",
       "0     111                         Server @ Tacolicious              Server   \n",
       "1     113             Kitchen Staff/Chef @ Claude Lane  Kitchen Staff/Chef   \n",
       "2     117         Bartender @ Machka Restaurants Corp.           Bartender   \n",
       "3     121                      Server @ Teriyaki House              Server   \n",
       "4     127  Kitchen Staff/Chef @ Rosa Mexicano - Sunset  Kitchen Staff/Chef   \n",
       "\n",
       "                    Company           City  Empl_type  \\\n",
       "0               Tacolicious      Palo Alto  Part-Time   \n",
       "1               Claude Lane  San Francisco  Part-Time   \n",
       "2  Machka Restaurants Corp.  San Francisco  Part-Time   \n",
       "3            Teriyaki House       Brisbane  Part-Time   \n",
       "4    Rosa Mexicano - Sunset    Los Angeles  Part-Time   \n",
       "\n",
       "                                     Job_Description  \n",
       "0  Tacolicious' first Palo Alto store just opened...  \n",
       "1   \\r\\n\\r\\nNew French Brasserie in S.F. Financia...  \n",
       "2  We are a popular Mediterranean wine bar and re...  \n",
       "3   ● Serve food/drinks to customers in a profess...  \n",
       "4  Located at the heart of Hollywood, we are one ...  "
      ]
     },
     "execution_count": 5,
     "metadata": {},
     "output_type": "execute_result"
    }
   ],
   "source": [
    "\n",
    "cols = ['Job.ID']+['Title']+['Position']+ ['Company']+['City']+['Employment.Type']+['Job.Description']\n",
    "df_jobs =df_jobs[cols]\n",
    "df_jobs.columns = ['Job.ID', 'Title', 'Position', 'Company','City', 'Empl_type','Job_Description']\n",
    "df_jobs.head()"
   ]
  },
  {
   "cell_type": "code",
   "execution_count": 6,
   "id": "00b85432",
   "metadata": {},
   "outputs": [
    {
     "data": {
      "text/plain": [
       "Job.ID                0\n",
       "Title                 0\n",
       "Position              0\n",
       "Company            2271\n",
       "City                135\n",
       "Empl_type            10\n",
       "Job_Description      56\n",
       "dtype: int64"
      ]
     },
     "execution_count": 6,
     "metadata": {},
     "output_type": "execute_result"
    }
   ],
   "source": [
    "# checking for the null values again.\n",
    "df_jobs.isnull().sum()"
   ]
  },
  {
   "cell_type": "markdown",
   "id": "e1a3071b",
   "metadata": {},
   "source": [
    "#### Let´s check the NA's by plotting them"
   ]
  },
  {
   "cell_type": "code",
   "execution_count": 7,
   "id": "1587377c",
   "metadata": {},
   "outputs": [
    {
     "data": {
      "image/png": "[encoded data removed]",
      "text/plain": [
       "<Figure size 720x432 with 1 Axes>"
      ]
     },
     "metadata": {
      "needs_background": "light"
     },
     "output_type": "display_data"
    }
   ],
   "source": [
    "import matplotlib.pyplot as plt\n",
    "import seaborn as sns\n",
    "%matplotlib inline\n",
    "x = df_jobs.columns\n",
    "y = df_jobs.isnull().sum()\n",
    "plt.figure(figsize=(10,6))\n",
    "sns.set()\n",
    "sns.barplot(x=x, y=y)\n",
    "ax = plt.gca()\n",
    "for p in ax.patches:\n",
    "    height = p.get_height()\n",
    "    ax.text(p.get_x(),\n",
    "            height + 2,\n",
    "            str(100*round(int(height)/df_jobs.shape[0], 3)) +\"%\",\n",
    "            fontsize=10, ha='center', va='bottom')\n",
    "ax.set_xlabel(\"Columns\")\n",
    "ax.set_ylabel(\"NA's\")\n",
    "plt.xticks(rotation=80)\n",
    "\n",
    "plt.show()"
   ]
  },
  {
   "cell_type": "markdown",
   "id": "418efdce",
   "metadata": {},
   "source": [
    "selecting NaN rows of city"
   ]
  },
  {
   "cell_type": "code",
   "execution_count": 8,
   "id": "50f81f79",
   "metadata": {},
   "outputs": [
    {
     "name": "stdout",
     "output_type": "stream",
     "text": [
      "(135, 7)\n"
     ]
    },
    {
     "data": {
      "text/html": [
       "<div>\n",
       "<style scoped>\n",
       "    .dataframe tbody tr th:only-of-type {\n",
       "        vertical-align: middle;\n",
       "    }\n",
       "\n",
       "    .dataframe tbody tr th {\n",
       "        vertical-align: top;\n",
       "    }\n",
       "\n",
       "    .dataframe thead th {\n",
       "        text-align: right;\n",
       "    }\n",
       "</style>\n",
       "<table border=\"1\" class=\"dataframe\">\n",
       "  <thead>\n",
       "    <tr style=\"text-align: right;\">\n",
       "      <th></th>\n",
       "      <th>Job.ID</th>\n",
       "      <th>Title</th>\n",
       "      <th>Position</th>\n",
       "      <th>Company</th>\n",
       "      <th>City</th>\n",
       "      <th>Empl_type</th>\n",
       "      <th>Job_Description</th>\n",
       "    </tr>\n",
       "  </thead>\n",
       "  <tbody>\n",
       "    <tr>\n",
       "      <th>3425</th>\n",
       "      <td>142044</td>\n",
       "      <td>Registered Nurse (RN) @ St. Francis Hospital</td>\n",
       "      <td>Registered Nurse (RN)</td>\n",
       "      <td>St. Francis Hospital</td>\n",
       "      <td>NaN</td>\n",
       "      <td>Full-Time/Part-Time</td>\n",
       "      <td>Under the direction of the Clinical Coordinato...</td>\n",
       "    </tr>\n",
       "    <tr>\n",
       "      <th>3433</th>\n",
       "      <td>142054</td>\n",
       "      <td>Sales Representative - Business Development Op...</td>\n",
       "      <td>Sales Representative - Business Development Op...</td>\n",
       "      <td>CHI Payment Systems</td>\n",
       "      <td>NaN</td>\n",
       "      <td>Full-Time/Part-Time</td>\n",
       "      <td>If you&amp;rsquo;re energetic, motivated, hardwork...</td>\n",
       "    </tr>\n",
       "    <tr>\n",
       "      <th>3434</th>\n",
       "      <td>142055</td>\n",
       "      <td>New Business Executive @ CHI Payment Systems</td>\n",
       "      <td>New Business Executive</td>\n",
       "      <td>CHI Payment Systems</td>\n",
       "      <td>NaN</td>\n",
       "      <td>Full-Time/Part-Time</td>\n",
       "      <td>If you&amp;rsquo;re energetic, motivated, hardwork...</td>\n",
       "    </tr>\n",
       "    <tr>\n",
       "      <th>3435</th>\n",
       "      <td>142056</td>\n",
       "      <td>Outside Sales Representative (Business Develop...</td>\n",
       "      <td>Outside Sales Representative (Business Develop...</td>\n",
       "      <td>CHI Payment Systems</td>\n",
       "      <td>NaN</td>\n",
       "      <td>Full-Time/Part-Time</td>\n",
       "      <td>If you&amp;rsquo;re energetic, motivated, hardwork...</td>\n",
       "    </tr>\n",
       "    <tr>\n",
       "      <th>3436</th>\n",
       "      <td>142057</td>\n",
       "      <td>Outside Sales Representative @ CHI Payment Sys...</td>\n",
       "      <td>Outside Sales Representative</td>\n",
       "      <td>CHI Payment Systems</td>\n",
       "      <td>NaN</td>\n",
       "      <td>Full-Time/Part-Time</td>\n",
       "      <td>If you&amp;rsquo;re energetic, motivated, hardwork...</td>\n",
       "    </tr>\n",
       "  </tbody>\n",
       "</table>\n",
       "</div>"
      ],
      "text/plain": [
       "      Job.ID                                              Title  \\\n",
       "3425  142044       Registered Nurse (RN) @ St. Francis Hospital   \n",
       "3433  142054  Sales Representative - Business Development Op...   \n",
       "3434  142055       New Business Executive @ CHI Payment Systems   \n",
       "3435  142056  Outside Sales Representative (Business Develop...   \n",
       "3436  142057  Outside Sales Representative @ CHI Payment Sys...   \n",
       "\n",
       "                                               Position               Company  \\\n",
       "3425                              Registered Nurse (RN)  St. Francis Hospital   \n",
       "3433  Sales Representative - Business Development Op...   CHI Payment Systems   \n",
       "3434                             New Business Executive   CHI Payment Systems   \n",
       "3435  Outside Sales Representative (Business Develop...   CHI Payment Systems   \n",
       "3436                       Outside Sales Representative   CHI Payment Systems   \n",
       "\n",
       "     City            Empl_type  \\\n",
       "3425  NaN  Full-Time/Part-Time   \n",
       "3433  NaN  Full-Time/Part-Time   \n",
       "3434  NaN  Full-Time/Part-Time   \n",
       "3435  NaN  Full-Time/Part-Time   \n",
       "3436  NaN  Full-Time/Part-Time   \n",
       "\n",
       "                                        Job_Description  \n",
       "3425  Under the direction of the Clinical Coordinato...  \n",
       "3433  If you&rsquo;re energetic, motivated, hardwork...  \n",
       "3434  If you&rsquo;re energetic, motivated, hardwork...  \n",
       "3435  If you&rsquo;re energetic, motivated, hardwork...  \n",
       "3436  If you&rsquo;re energetic, motivated, hardwork...  "
      ]
     },
     "execution_count": 8,
     "metadata": {},
     "output_type": "execute_result"
    }
   ],
   "source": [
    "\n",
    "df_nan_city = df_jobs[pd.isnull(df_jobs['City'])]\n",
    "print(df_nan_city.shape)\n",
    "df_nan_city.head()"
   ]
  },
  {
   "cell_type": "code",
   "execution_count": 9,
   "id": "b3cd15ca",
   "metadata": {},
   "outputs": [
    {
     "data": {
      "text/plain": [
       "Company\n",
       "Academic Year In America                0\n",
       "CBS Healthcare Services and Staffing    0\n",
       "CHI Payment Systems                     0\n",
       "Driveline Retail                        0\n",
       "Educational Testing Services            0\n",
       "Genesis Health System                   0\n",
       "Genesis Health Systems                  0\n",
       "Home Instead Senior Care                0\n",
       "St. Francis Hospital                    0\n",
       "Volvo Group                             0\n",
       "Name: City, dtype: int64"
      ]
     },
     "execution_count": 9,
     "metadata": {},
     "output_type": "execute_result"
    }
   ],
   "source": [
    "df_nan_city.groupby(['Company'])['City'].count()"
   ]
  },
  {
   "cell_type": "markdown",
   "id": "82d4f50a",
   "metadata": {},
   "source": [
    "#### We see that there are only 9 companies cities that are having NaN values so it must be manually adding their head quarters (by simply searching at google)\n"
   ]
  },
  {
   "cell_type": "code",
   "execution_count": 10,
   "id": "eecbd950",
   "metadata": {},
   "outputs": [],
   "source": [
    "#replacing nan with thier headquarters location\n",
    "df_jobs['Company'] = df_jobs['Company'].replace(['Genesis Health Systems'], 'Genesis Health System')\n",
    "df_jobs.loc[df_jobs.Company == 'CHI Payment Systems', 'City'] = 'Illinois'\n",
    "df_jobs.loc[df_jobs.Company == 'Academic Year In America', 'City'] = 'Stamford'\n",
    "df_jobs.loc[df_jobs.Company == 'CBS Healthcare Services and Staffing ', 'City'] = 'Urbandale'\n",
    "df_jobs.loc[df_jobs.Company == 'Driveline Retail', 'City'] = 'Coppell'\n",
    "df_jobs.loc[df_jobs.Company == 'Educational Testing Services', 'City'] = 'New Jersey'\n",
    "df_jobs.loc[df_jobs.Company == 'Genesis Health System', 'City'] = 'Davennport'\n",
    "df_jobs.loc[df_jobs.Company == 'Home Instead Senior Care', 'City'] = 'Nebraska'\n",
    "df_jobs.loc[df_jobs.Company == 'St. Francis Hospital', 'City'] = 'New York'\n",
    "df_jobs.loc[df_jobs.Company == 'Volvo Group', 'City'] = 'Washington'\n",
    "df_jobs.loc[df_jobs.Company == 'CBS Healthcare Services and Staffing', 'City'] = 'Urbandale'"
   ]
  },
  {
   "cell_type": "code",
   "execution_count": 11,
   "id": "778fe1b1",
   "metadata": {},
   "outputs": [
    {
     "data": {
      "text/plain": [
       "Job.ID                0\n",
       "Title                 0\n",
       "Position              0\n",
       "Company            2271\n",
       "City                  0\n",
       "Empl_type            10\n",
       "Job_Description      56\n",
       "dtype: int64"
      ]
     },
     "execution_count": 11,
     "metadata": {},
     "output_type": "execute_result"
    }
   ],
   "source": [
    "df_jobs.isnull().sum()"
   ]
  },
  {
   "cell_type": "code",
   "execution_count": 12,
   "id": "7dcbada7",
   "metadata": {},
   "outputs": [
    {
     "data": {
      "text/html": [
       "<div>\n",
       "<style scoped>\n",
       "    .dataframe tbody tr th:only-of-type {\n",
       "        vertical-align: middle;\n",
       "    }\n",
       "\n",
       "    .dataframe tbody tr th {\n",
       "        vertical-align: top;\n",
       "    }\n",
       "\n",
       "    .dataframe thead th {\n",
       "        text-align: right;\n",
       "    }\n",
       "</style>\n",
       "<table border=\"1\" class=\"dataframe\">\n",
       "  <thead>\n",
       "    <tr style=\"text-align: right;\">\n",
       "      <th></th>\n",
       "      <th>Job.ID</th>\n",
       "      <th>Title</th>\n",
       "      <th>Position</th>\n",
       "      <th>Company</th>\n",
       "      <th>City</th>\n",
       "      <th>Empl_type</th>\n",
       "      <th>Job_Description</th>\n",
       "    </tr>\n",
       "  </thead>\n",
       "  <tbody>\n",
       "    <tr>\n",
       "      <th>10768</th>\n",
       "      <td>153197</td>\n",
       "      <td>Driving Partner @ Uber</td>\n",
       "      <td>Driving Partner</td>\n",
       "      <td>Uber</td>\n",
       "      <td>San Francisco</td>\n",
       "      <td>NaN</td>\n",
       "      <td>Uber is changing the way the world moves. From...</td>\n",
       "    </tr>\n",
       "    <tr>\n",
       "      <th>10769</th>\n",
       "      <td>153198</td>\n",
       "      <td>Driving Partner @ Uber</td>\n",
       "      <td>Driving Partner</td>\n",
       "      <td>Uber</td>\n",
       "      <td>Los Angeles</td>\n",
       "      <td>NaN</td>\n",
       "      <td>Uber is changing the way the world moves. From...</td>\n",
       "    </tr>\n",
       "    <tr>\n",
       "      <th>10770</th>\n",
       "      <td>153199</td>\n",
       "      <td>Driving Partner @ Uber</td>\n",
       "      <td>Driving Partner</td>\n",
       "      <td>Uber</td>\n",
       "      <td>Chicago</td>\n",
       "      <td>NaN</td>\n",
       "      <td>Uber is changing the way the world moves. From...</td>\n",
       "    </tr>\n",
       "    <tr>\n",
       "      <th>10771</th>\n",
       "      <td>153200</td>\n",
       "      <td>Driving Partner @ Uber</td>\n",
       "      <td>Driving Partner</td>\n",
       "      <td>Uber</td>\n",
       "      <td>Boston</td>\n",
       "      <td>NaN</td>\n",
       "      <td>Uber is changing the way the world moves. From...</td>\n",
       "    </tr>\n",
       "    <tr>\n",
       "      <th>10772</th>\n",
       "      <td>153201</td>\n",
       "      <td>Driving Partner @ Uber</td>\n",
       "      <td>Driving Partner</td>\n",
       "      <td>Uber</td>\n",
       "      <td>Ann Arbor</td>\n",
       "      <td>NaN</td>\n",
       "      <td>Uber is changing the way the world moves. From...</td>\n",
       "    </tr>\n",
       "  </tbody>\n",
       "</table>\n",
       "</div>"
      ],
      "text/plain": [
       "       Job.ID                   Title         Position Company           City  \\\n",
       "10768  153197  Driving Partner @ Uber  Driving Partner    Uber  San Francisco   \n",
       "10769  153198  Driving Partner @ Uber  Driving Partner    Uber    Los Angeles   \n",
       "10770  153199  Driving Partner @ Uber  Driving Partner    Uber        Chicago   \n",
       "10771  153200  Driving Partner @ Uber  Driving Partner    Uber         Boston   \n",
       "10772  153201  Driving Partner @ Uber  Driving Partner    Uber      Ann Arbor   \n",
       "\n",
       "      Empl_type                                    Job_Description  \n",
       "10768       NaN  Uber is changing the way the world moves. From...  \n",
       "10769       NaN  Uber is changing the way the world moves. From...  \n",
       "10770       NaN  Uber is changing the way the world moves. From...  \n",
       "10771       NaN  Uber is changing the way the world moves. From...  \n",
       "10772       NaN  Uber is changing the way the world moves. From...  "
      ]
     },
     "execution_count": 12,
     "metadata": {},
     "output_type": "execute_result"
    }
   ],
   "source": [
    "#The employement type NA are from Uber so I assume as part-time and full time\n",
    "df_nan_emp = df_jobs[pd.isnull(df_jobs['Empl_type'])]\n",
    "df_nan_emp.head()\n"
   ]
  },
  {
   "cell_type": "code",
   "execution_count": 13,
   "id": "d587111c",
   "metadata": {},
   "outputs": [
    {
     "data": {
      "text/plain": [
       "array(['Part-Time', 'Full-Time/Part-Time', 'Seasonal/Temp', 'Per Diem',\n",
       "       'Intern', nan, 'Full-Time', 'Contract', 'Temporary/seasonal'],\n",
       "      dtype=object)"
      ]
     },
     "execution_count": 13,
     "metadata": {},
     "output_type": "execute_result"
    }
   ],
   "source": [
    "df_jobs['Empl_type'].unique()"
   ]
  },
  {
   "cell_type": "code",
   "execution_count": 14,
   "id": "532b0a51",
   "metadata": {},
   "outputs": [
    {
     "data": {
      "text/plain": [
       "(84090,)"
      ]
     },
     "execution_count": 14,
     "metadata": {},
     "output_type": "execute_result"
    }
   ],
   "source": [
    "df_jobs['Empl_type'].shape"
   ]
  },
  {
   "cell_type": "code",
   "execution_count": 15,
   "id": "f0df2278",
   "metadata": {},
   "outputs": [
    {
     "data": {
      "text/html": [
       "<div>\n",
       "<style scoped>\n",
       "    .dataframe tbody tr th:only-of-type {\n",
       "        vertical-align: middle;\n",
       "    }\n",
       "\n",
       "    .dataframe tbody tr th {\n",
       "        vertical-align: top;\n",
       "    }\n",
       "\n",
       "    .dataframe thead th {\n",
       "        text-align: right;\n",
       "    }\n",
       "</style>\n",
       "<table border=\"1\" class=\"dataframe\">\n",
       "  <thead>\n",
       "    <tr style=\"text-align: right;\">\n",
       "      <th></th>\n",
       "      <th>Job.ID</th>\n",
       "      <th>Title</th>\n",
       "      <th>Position</th>\n",
       "      <th>Company</th>\n",
       "      <th>City</th>\n",
       "      <th>Empl_type</th>\n",
       "      <th>Job_Description</th>\n",
       "    </tr>\n",
       "  </thead>\n",
       "  <tbody>\n",
       "    <tr>\n",
       "      <th>0</th>\n",
       "      <td>111</td>\n",
       "      <td>Server @ Tacolicious</td>\n",
       "      <td>Server</td>\n",
       "      <td>Tacolicious</td>\n",
       "      <td>Palo Alto</td>\n",
       "      <td>Part-Time</td>\n",
       "      <td>Tacolicious' first Palo Alto store just opened...</td>\n",
       "    </tr>\n",
       "    <tr>\n",
       "      <th>1</th>\n",
       "      <td>113</td>\n",
       "      <td>Kitchen Staff/Chef @ Claude Lane</td>\n",
       "      <td>Kitchen Staff/Chef</td>\n",
       "      <td>Claude Lane</td>\n",
       "      <td>San Francisco</td>\n",
       "      <td>Part-Time</td>\n",
       "      <td>\\r\\n\\r\\nNew French Brasserie in S.F. Financia...</td>\n",
       "    </tr>\n",
       "    <tr>\n",
       "      <th>2</th>\n",
       "      <td>117</td>\n",
       "      <td>Bartender @ Machka Restaurants Corp.</td>\n",
       "      <td>Bartender</td>\n",
       "      <td>Machka Restaurants Corp.</td>\n",
       "      <td>San Francisco</td>\n",
       "      <td>Part-Time</td>\n",
       "      <td>We are a popular Mediterranean wine bar and re...</td>\n",
       "    </tr>\n",
       "    <tr>\n",
       "      <th>3</th>\n",
       "      <td>121</td>\n",
       "      <td>Server @ Teriyaki House</td>\n",
       "      <td>Server</td>\n",
       "      <td>Teriyaki House</td>\n",
       "      <td>Brisbane</td>\n",
       "      <td>Part-Time</td>\n",
       "      <td>● Serve food/drinks to customers in a profess...</td>\n",
       "    </tr>\n",
       "    <tr>\n",
       "      <th>4</th>\n",
       "      <td>127</td>\n",
       "      <td>Kitchen Staff/Chef @ Rosa Mexicano - Sunset</td>\n",
       "      <td>Kitchen Staff/Chef</td>\n",
       "      <td>Rosa Mexicano - Sunset</td>\n",
       "      <td>Los Angeles</td>\n",
       "      <td>Part-Time</td>\n",
       "      <td>Located at the heart of Hollywood, we are one ...</td>\n",
       "    </tr>\n",
       "  </tbody>\n",
       "</table>\n",
       "</div>"
      ],
      "text/plain": [
       "   Job.ID                                        Title            Position  \\\n",
       "0     111                         Server @ Tacolicious              Server   \n",
       "1     113             Kitchen Staff/Chef @ Claude Lane  Kitchen Staff/Chef   \n",
       "2     117         Bartender @ Machka Restaurants Corp.           Bartender   \n",
       "3     121                      Server @ Teriyaki House              Server   \n",
       "4     127  Kitchen Staff/Chef @ Rosa Mexicano - Sunset  Kitchen Staff/Chef   \n",
       "\n",
       "                    Company           City  Empl_type  \\\n",
       "0               Tacolicious      Palo Alto  Part-Time   \n",
       "1               Claude Lane  San Francisco  Part-Time   \n",
       "2  Machka Restaurants Corp.  San Francisco  Part-Time   \n",
       "3            Teriyaki House       Brisbane  Part-Time   \n",
       "4    Rosa Mexicano - Sunset    Los Angeles  Part-Time   \n",
       "\n",
       "                                     Job_Description  \n",
       "0  Tacolicious' first Palo Alto store just opened...  \n",
       "1   \\r\\n\\r\\nNew French Brasserie in S.F. Financia...  \n",
       "2  We are a popular Mediterranean wine bar and re...  \n",
       "3   ● Serve food/drinks to customers in a profess...  \n",
       "4  Located at the heart of Hollywood, we are one ...  "
      ]
     },
     "execution_count": 15,
     "metadata": {},
     "output_type": "execute_result"
    }
   ],
   "source": [
    "#replacing na values with part time/full time\n",
    "df_jobs['Empl_type']=df_jobs['Empl_type'].fillna('Full-Time/Part-Time')\n",
    "df_jobs.groupby(['Empl_type'])['Company'].count()\n",
    "df_jobs.head()"
   ]
  },
  {
   "cell_type": "markdown",
   "id": "a6762cf3",
   "metadata": {},
   "source": [
    "##  Creating the jobs corpus"
   ]
  },
  {
   "cell_type": "markdown",
   "id": "c6378538",
   "metadata": {},
   "source": [
    "#### combining the columns of position, company, city, emp_type and position"
   ]
  },
  {
   "cell_type": "code",
   "execution_count": 16,
   "id": "428ad1a4",
   "metadata": {},
   "outputs": [
    {
     "data": {
      "text/html": [
       "<div>\n",
       "<style scoped>\n",
       "    .dataframe tbody tr th:only-of-type {\n",
       "        vertical-align: middle;\n",
       "    }\n",
       "\n",
       "    .dataframe tbody tr th {\n",
       "        vertical-align: top;\n",
       "    }\n",
       "\n",
       "    .dataframe thead th {\n",
       "        text-align: right;\n",
       "    }\n",
       "</style>\n",
       "<table border=\"1\" class=\"dataframe\">\n",
       "  <thead>\n",
       "    <tr style=\"text-align: right;\">\n",
       "      <th></th>\n",
       "      <th>Job.ID</th>\n",
       "      <th>Title</th>\n",
       "      <th>Position</th>\n",
       "      <th>Company</th>\n",
       "      <th>City</th>\n",
       "      <th>Empl_type</th>\n",
       "      <th>Job_Description</th>\n",
       "      <th>text</th>\n",
       "    </tr>\n",
       "  </thead>\n",
       "  <tbody>\n",
       "    <tr>\n",
       "      <th>0</th>\n",
       "      <td>111</td>\n",
       "      <td>Server @ Tacolicious</td>\n",
       "      <td>Server</td>\n",
       "      <td>Tacolicious</td>\n",
       "      <td>Palo Alto</td>\n",
       "      <td>Part-Time</td>\n",
       "      <td>Tacolicious' first Palo Alto store just opened...</td>\n",
       "      <td>Server Tacolicious Palo Alto Part-Time Tacolic...</td>\n",
       "    </tr>\n",
       "    <tr>\n",
       "      <th>1</th>\n",
       "      <td>113</td>\n",
       "      <td>Kitchen Staff/Chef @ Claude Lane</td>\n",
       "      <td>Kitchen Staff/Chef</td>\n",
       "      <td>Claude Lane</td>\n",
       "      <td>San Francisco</td>\n",
       "      <td>Part-Time</td>\n",
       "      <td>\\r\\n\\r\\nNew French Brasserie in S.F. Financia...</td>\n",
       "      <td>Kitchen Staff/Chef Claude Lane San Francisco P...</td>\n",
       "    </tr>\n",
       "  </tbody>\n",
       "</table>\n",
       "</div>"
      ],
      "text/plain": [
       "   Job.ID                             Title            Position      Company  \\\n",
       "0     111              Server @ Tacolicious              Server  Tacolicious   \n",
       "1     113  Kitchen Staff/Chef @ Claude Lane  Kitchen Staff/Chef  Claude Lane   \n",
       "\n",
       "            City  Empl_type  \\\n",
       "0      Palo Alto  Part-Time   \n",
       "1  San Francisco  Part-Time   \n",
       "\n",
       "                                     Job_Description  \\\n",
       "0  Tacolicious' first Palo Alto store just opened...   \n",
       "1   \\r\\n\\r\\nNew French Brasserie in S.F. Financia...   \n",
       "\n",
       "                                                text  \n",
       "0  Server Tacolicious Palo Alto Part-Time Tacolic...  \n",
       "1  Kitchen Staff/Chef Claude Lane San Francisco P...  "
      ]
     },
     "execution_count": 16,
     "metadata": {},
     "output_type": "execute_result"
    }
   ],
   "source": [
    "df_jobs[\"text\"] = df_jobs[\"Position\"].map(str) + \" \" + df_jobs[\"Company\"] +\" \"+ df_jobs[\"City\"]+ \" \"+df_jobs['Empl_type']+\" \"+df_jobs['Job_Description'] +\" \"+df_jobs['Title']\n",
    "df_jobs.head(2)"
   ]
  },
  {
   "cell_type": "code",
   "execution_count": 17,
   "id": "fe6df4cc",
   "metadata": {},
   "outputs": [
    {
     "data": {
      "text/html": [
       "<div>\n",
       "<style scoped>\n",
       "    .dataframe tbody tr th:only-of-type {\n",
       "        vertical-align: middle;\n",
       "    }\n",
       "\n",
       "    .dataframe tbody tr th {\n",
       "        vertical-align: top;\n",
       "    }\n",
       "\n",
       "    .dataframe thead th {\n",
       "        text-align: right;\n",
       "    }\n",
       "</style>\n",
       "<table border=\"1\" class=\"dataframe\">\n",
       "  <thead>\n",
       "    <tr style=\"text-align: right;\">\n",
       "      <th></th>\n",
       "      <th>Job.ID</th>\n",
       "      <th>text</th>\n",
       "      <th>Title</th>\n",
       "    </tr>\n",
       "  </thead>\n",
       "  <tbody>\n",
       "    <tr>\n",
       "      <th>0</th>\n",
       "      <td>111</td>\n",
       "      <td>Server Tacolicious Palo Alto Part-Time Tacolic...</td>\n",
       "      <td>Server @ Tacolicious</td>\n",
       "    </tr>\n",
       "    <tr>\n",
       "      <th>1</th>\n",
       "      <td>113</td>\n",
       "      <td>Kitchen Staff/Chef Claude Lane San Francisco P...</td>\n",
       "      <td>Kitchen Staff/Chef @ Claude Lane</td>\n",
       "    </tr>\n",
       "    <tr>\n",
       "      <th>2</th>\n",
       "      <td>117</td>\n",
       "      <td>Bartender Machka Restaurants Corp. San Francis...</td>\n",
       "      <td>Bartender @ Machka Restaurants Corp.</td>\n",
       "    </tr>\n",
       "    <tr>\n",
       "      <th>3</th>\n",
       "      <td>121</td>\n",
       "      <td>Server Teriyaki House Brisbane Part-Time  ● Se...</td>\n",
       "      <td>Server @ Teriyaki House</td>\n",
       "    </tr>\n",
       "    <tr>\n",
       "      <th>4</th>\n",
       "      <td>127</td>\n",
       "      <td>Kitchen Staff/Chef Rosa Mexicano - Sunset Los ...</td>\n",
       "      <td>Kitchen Staff/Chef @ Rosa Mexicano - Sunset</td>\n",
       "    </tr>\n",
       "  </tbody>\n",
       "</table>\n",
       "</div>"
      ],
      "text/plain": [
       "   Job.ID                                               text  \\\n",
       "0     111  Server Tacolicious Palo Alto Part-Time Tacolic...   \n",
       "1     113  Kitchen Staff/Chef Claude Lane San Francisco P...   \n",
       "2     117  Bartender Machka Restaurants Corp. San Francis...   \n",
       "3     121  Server Teriyaki House Brisbane Part-Time  ● Se...   \n",
       "4     127  Kitchen Staff/Chef Rosa Mexicano - Sunset Los ...   \n",
       "\n",
       "                                         Title  \n",
       "0                         Server @ Tacolicious  \n",
       "1             Kitchen Staff/Chef @ Claude Lane  \n",
       "2         Bartender @ Machka Restaurants Corp.  \n",
       "3                      Server @ Teriyaki House  \n",
       "4  Kitchen Staff/Chef @ Rosa Mexicano - Sunset  "
      ]
     },
     "execution_count": 17,
     "metadata": {},
     "output_type": "execute_result"
    }
   ],
   "source": [
    "df_all = df_jobs[['Job.ID', 'text', 'Title']]\n",
    "\n",
    "df_all = df_all.fillna(\" \")\n",
    "\n",
    "df_all.head()"
   ]
  },
  {
   "cell_type": "code",
   "execution_count": 18,
   "id": "7ae3e18a",
   "metadata": {},
   "outputs": [
    {
     "data": {
      "text/plain": [
       "(84090, 3)"
      ]
     },
     "execution_count": 18,
     "metadata": {},
     "output_type": "execute_result"
    }
   ],
   "source": [
    "df_all.shape"
   ]
  },
  {
   "cell_type": "code",
   "execution_count": 19,
   "id": "1b7ade52",
   "metadata": {},
   "outputs": [
    {
     "name": "stderr",
     "output_type": "stream",
     "text": [
      "[nltk_data] Downloading package punkt to\n",
      "[nltk_data]     C:\\Users\\ssart\\AppData\\Roaming\\nltk_data...\n",
      "[nltk_data]   Package punkt is already up-to-date!\n",
      "[nltk_data] Downloading package stopwords to\n",
      "[nltk_data]     C:\\Users\\ssart\\AppData\\Roaming\\nltk_data...\n",
      "[nltk_data]   Package stopwords is already up-to-date!\n",
      "[nltk_data] Downloading package wordnet to\n",
      "[nltk_data]     C:\\Users\\ssart\\AppData\\Roaming\\nltk_data...\n",
      "[nltk_data]   Package wordnet is already up-to-date!\n",
      "[nltk_data] Downloading package averaged_perceptron_tagger to\n",
      "[nltk_data]     C:\\Users\\ssart\\AppData\\Roaming\\nltk_data...\n",
      "[nltk_data]   Package averaged_perceptron_tagger is already up-to-\n",
      "[nltk_data]       date!\n"
     ]
    },
    {
     "data": {
      "text/plain": [
       "True"
      ]
     },
     "execution_count": 19,
     "metadata": {},
     "output_type": "execute_result"
    }
   ],
   "source": [
    "nltk.download('punkt')\n",
    "nltk.download('stopwords')\n",
    "nltk.download('wordnet')\n",
    "nltk.download('averaged_perceptron_tagger')"
   ]
  },
  {
   "cell_type": "code",
   "execution_count": 20,
   "id": "6b2765dd",
   "metadata": {},
   "outputs": [],
   "source": [
    "\n",
    "from nltk.corpus import stopwords\n",
    "import re\n",
    "import string\n",
    "from nltk.stem import WordNetLemmatizer\n",
    "from nltk import word_tokenize\n",
    "from nltk.corpus import stopwords\n",
    "stop = stopwords.words('english')\n",
    "stop_words_ = set(stopwords.words('english'))\n",
    "wn = WordNetLemmatizer()\n",
    "\n",
    "def black_txt(token):\n",
    "    return  token not in stop_words_ and token not in list(string.punctuation)  and len(token)>2\n",
    "\n",
    "def clean_txt(text):\n",
    "  clean_text = []\n",
    "  clean_text2 = []\n",
    "  text = re.sub(\"'\", \"\",text)\n",
    "  text=re.sub(\"(\\\\d|\\\\W)+\",\" \",text)\n",
    "  text = text.replace(\"nbsp\", \"\")\n",
    "  clean_text = [ wn.lemmatize(word, pos=\"v\") for word in word_tokenize(text.lower()) if black_txt(word)]\n",
    "  clean_text2 = [word for word in clean_text if black_txt(word)]\n",
    "  return \" \".join(clean_text2)\n"
   ]
  },
  {
   "cell_type": "markdown",
   "id": "c92b80a6",
   "metadata": {},
   "source": [
    "#### Cleaning the jobs corpus"
   ]
  },
  {
   "cell_type": "code",
   "execution_count": 21,
   "id": "acbd4a69",
   "metadata": {},
   "outputs": [],
   "source": [
    "df_all['text'] = df_all['text'].apply(clean_txt)"
   ]
  },
  {
   "cell_type": "markdown",
   "id": "5384efec",
   "metadata": {},
   "source": [
    "#### Finally we ended we a clean text for the jobs dataset:"
   ]
  },
  {
   "cell_type": "code",
   "execution_count": 22,
   "id": "ea1939f6",
   "metadata": {},
   "outputs": [
    {
     "data": {
      "text/html": [
       "<div>\n",
       "<style scoped>\n",
       "    .dataframe tbody tr th:only-of-type {\n",
       "        vertical-align: middle;\n",
       "    }\n",
       "\n",
       "    .dataframe tbody tr th {\n",
       "        vertical-align: top;\n",
       "    }\n",
       "\n",
       "    .dataframe thead th {\n",
       "        text-align: right;\n",
       "    }\n",
       "</style>\n",
       "<table border=\"1\" class=\"dataframe\">\n",
       "  <thead>\n",
       "    <tr style=\"text-align: right;\">\n",
       "      <th></th>\n",
       "      <th>Job.ID</th>\n",
       "      <th>text</th>\n",
       "      <th>Title</th>\n",
       "    </tr>\n",
       "  </thead>\n",
       "  <tbody>\n",
       "    <tr>\n",
       "      <th>0</th>\n",
       "      <td>111</td>\n",
       "      <td>server tacolicious palo alto part time tacolic...</td>\n",
       "      <td>Server @ Tacolicious</td>\n",
       "    </tr>\n",
       "    <tr>\n",
       "      <th>1</th>\n",
       "      <td>113</td>\n",
       "      <td>kitchen staff chef claude lane san francisco p...</td>\n",
       "      <td>Kitchen Staff/Chef @ Claude Lane</td>\n",
       "    </tr>\n",
       "    <tr>\n",
       "      <th>2</th>\n",
       "      <td>117</td>\n",
       "      <td>bartender machka restaurants corp san francisc...</td>\n",
       "      <td>Bartender @ Machka Restaurants Corp.</td>\n",
       "    </tr>\n",
       "    <tr>\n",
       "      <th>3</th>\n",
       "      <td>121</td>\n",
       "      <td>server teriyaki house brisbane part time serve...</td>\n",
       "      <td>Server @ Teriyaki House</td>\n",
       "    </tr>\n",
       "    <tr>\n",
       "      <th>4</th>\n",
       "      <td>127</td>\n",
       "      <td>kitchen staff chef rosa mexicano sunset los an...</td>\n",
       "      <td>Kitchen Staff/Chef @ Rosa Mexicano - Sunset</td>\n",
       "    </tr>\n",
       "  </tbody>\n",
       "</table>\n",
       "</div>"
      ],
      "text/plain": [
       "   Job.ID                                               text  \\\n",
       "0     111  server tacolicious palo alto part time tacolic...   \n",
       "1     113  kitchen staff chef claude lane san francisco p...   \n",
       "2     117  bartender machka restaurants corp san francisc...   \n",
       "3     121  server teriyaki house brisbane part time serve...   \n",
       "4     127  kitchen staff chef rosa mexicano sunset los an...   \n",
       "\n",
       "                                         Title  \n",
       "0                         Server @ Tacolicious  \n",
       "1             Kitchen Staff/Chef @ Claude Lane  \n",
       "2         Bartender @ Machka Restaurants Corp.  \n",
       "3                      Server @ Teriyaki House  \n",
       "4  Kitchen Staff/Chef @ Rosa Mexicano - Sunset  "
      ]
     },
     "execution_count": 22,
     "metadata": {},
     "output_type": "execute_result"
    }
   ],
   "source": [
    "\n",
    "df_all.head()"
   ]
  },
  {
   "cell_type": "markdown",
   "id": "7a14e4fd",
   "metadata": {},
   "source": [
    "#### TF-IDF ( Term Frequency - Inverse Document Frequency )\n"
   ]
  },
  {
   "cell_type": "code",
   "execution_count": 23,
   "id": "d0fa1415",
   "metadata": {},
   "outputs": [
    {
     "data": {
      "text/plain": [
       "<84090x50754 sparse matrix of type '<class 'numpy.float64'>'\n",
       "\twith 8263698 stored elements in Compressed Sparse Row format>"
      ]
     },
     "execution_count": 23,
     "metadata": {},
     "output_type": "execute_result"
    }
   ],
   "source": [
    "\n",
    "#initializing tfidf vectorizer\n",
    "from sklearn.feature_extraction.text import TfidfVectorizer\n",
    "tfidf_vectorizer = TfidfVectorizer()\n",
    "\n",
    "tfidf_jobid = tfidf_vectorizer.fit_transform((df_all['text'])) #fitting and transforming the vector\n",
    "tfidf_jobid"
   ]
  },
  {
   "cell_type": "markdown",
   "id": "bf565a32",
   "metadata": {},
   "source": [
    "# Cretating the User Corpus\n",
    "Let's Take the dataset called job views."
   ]
  },
  {
   "cell_type": "code",
   "execution_count": 24,
   "id": "0eba5170",
   "metadata": {},
   "outputs": [
    {
     "data": {
      "text/html": [
       "<div>\n",
       "<style scoped>\n",
       "    .dataframe tbody tr th:only-of-type {\n",
       "        vertical-align: middle;\n",
       "    }\n",
       "\n",
       "    .dataframe tbody tr th {\n",
       "        vertical-align: top;\n",
       "    }\n",
       "\n",
       "    .dataframe thead th {\n",
       "        text-align: right;\n",
       "    }\n",
       "</style>\n",
       "<table border=\"1\" class=\"dataframe\">\n",
       "  <thead>\n",
       "    <tr style=\"text-align: right;\">\n",
       "      <th></th>\n",
       "      <th>Applicant.ID</th>\n",
       "      <th>Job.ID</th>\n",
       "      <th>Title</th>\n",
       "      <th>Position</th>\n",
       "      <th>Company</th>\n",
       "      <th>City</th>\n",
       "      <th>State.Name</th>\n",
       "      <th>State.Code</th>\n",
       "      <th>Industry</th>\n",
       "      <th>View.Start</th>\n",
       "      <th>View.End</th>\n",
       "      <th>View.Duration</th>\n",
       "      <th>Created.At</th>\n",
       "      <th>Updated.At</th>\n",
       "    </tr>\n",
       "  </thead>\n",
       "  <tbody>\n",
       "    <tr>\n",
       "      <th>0</th>\n",
       "      <td>10000</td>\n",
       "      <td>73666</td>\n",
       "      <td>Cashiers &amp; Valets Needed! @ WallyPark</td>\n",
       "      <td>Cashiers &amp; Valets Needed!</td>\n",
       "      <td>WallyPark</td>\n",
       "      <td>Newark</td>\n",
       "      <td>New Jersey</td>\n",
       "      <td>NJ</td>\n",
       "      <td>NaN</td>\n",
       "      <td>2014-12-12 20:12:35 UTC</td>\n",
       "      <td>2014-12-12 20:31:24 UTC</td>\n",
       "      <td>1129.0</td>\n",
       "      <td>2014-12-12 20:12:35 UTC</td>\n",
       "      <td>2014-12-12 20:12:35 UTC</td>\n",
       "    </tr>\n",
       "    <tr>\n",
       "      <th>1</th>\n",
       "      <td>10000</td>\n",
       "      <td>96655</td>\n",
       "      <td>Macy's Seasonal Retail Fragrance Cashier  - Ga...</td>\n",
       "      <td>Macy's Seasonal Retail Fragrance Cashier  - Ga...</td>\n",
       "      <td>Macy's</td>\n",
       "      <td>Garden City</td>\n",
       "      <td>New York</td>\n",
       "      <td>NY</td>\n",
       "      <td>NaN</td>\n",
       "      <td>2014-12-12 20:08:50 UTC</td>\n",
       "      <td>2014-12-12 20:10:15 UTC</td>\n",
       "      <td>84.0</td>\n",
       "      <td>2014-12-12 20:08:50 UTC</td>\n",
       "      <td>2014-12-12 20:08:50 UTC</td>\n",
       "    </tr>\n",
       "  </tbody>\n",
       "</table>\n",
       "</div>"
      ],
      "text/plain": [
       "   Applicant.ID  Job.ID                                              Title  \\\n",
       "0         10000   73666              Cashiers & Valets Needed! @ WallyPark   \n",
       "1         10000   96655  Macy's Seasonal Retail Fragrance Cashier  - Ga...   \n",
       "\n",
       "                                            Position    Company         City  \\\n",
       "0                          Cashiers & Valets Needed!  WallyPark       Newark   \n",
       "1  Macy's Seasonal Retail Fragrance Cashier  - Ga...     Macy's  Garden City   \n",
       "\n",
       "   State.Name State.Code Industry               View.Start  \\\n",
       "0  New Jersey         NJ      NaN  2014-12-12 20:12:35 UTC   \n",
       "1    New York         NY      NaN  2014-12-12 20:08:50 UTC   \n",
       "\n",
       "                  View.End  View.Duration               Created.At  \\\n",
       "0  2014-12-12 20:31:24 UTC         1129.0  2014-12-12 20:12:35 UTC   \n",
       "1  2014-12-12 20:10:15 UTC           84.0  2014-12-12 20:08:50 UTC   \n",
       "\n",
       "                Updated.At  \n",
       "0  2014-12-12 20:12:35 UTC  \n",
       "1  2014-12-12 20:08:50 UTC  "
      ]
     },
     "execution_count": 24,
     "metadata": {},
     "output_type": "execute_result"
    }
   ],
   "source": [
    "df_job_view = pd.read_csv(r\"Dataset\\Job_Views.csv\")\n",
    "df_job_view.head(2)\n"
   ]
  },
  {
   "cell_type": "markdown",
   "id": "d8bddd84",
   "metadata": {},
   "source": [
    "In this case we will use only the columns 'Applicant.ID', 'Job.ID', 'Position', 'Company','City'"
   ]
  },
  {
   "cell_type": "code",
   "execution_count": 25,
   "id": "95d93d39",
   "metadata": {},
   "outputs": [
    {
     "data": {
      "text/html": [
       "<div>\n",
       "<style scoped>\n",
       "    .dataframe tbody tr th:only-of-type {\n",
       "        vertical-align: middle;\n",
       "    }\n",
       "\n",
       "    .dataframe tbody tr th {\n",
       "        vertical-align: top;\n",
       "    }\n",
       "\n",
       "    .dataframe thead th {\n",
       "        text-align: right;\n",
       "    }\n",
       "</style>\n",
       "<table border=\"1\" class=\"dataframe\">\n",
       "  <thead>\n",
       "    <tr style=\"text-align: right;\">\n",
       "      <th></th>\n",
       "      <th>Applicant.ID</th>\n",
       "      <th>select_pos_com_city</th>\n",
       "    </tr>\n",
       "  </thead>\n",
       "  <tbody>\n",
       "    <tr>\n",
       "      <th>0</th>\n",
       "      <td>10000</td>\n",
       "      <td>cashier valet need wallypark newark</td>\n",
       "    </tr>\n",
       "    <tr>\n",
       "      <th>1</th>\n",
       "      <td>10000</td>\n",
       "      <td>macys seasonal retail fragrance cashier garden...</td>\n",
       "    </tr>\n",
       "    <tr>\n",
       "      <th>2</th>\n",
       "      <td>10001</td>\n",
       "      <td>part time showroom sales cashier grizzly indus...</td>\n",
       "    </tr>\n",
       "    <tr>\n",
       "      <th>3</th>\n",
       "      <td>10002</td>\n",
       "      <td>event specialist part time advantage sales mar...</td>\n",
       "    </tr>\n",
       "    <tr>\n",
       "      <th>4</th>\n",
       "      <td>10002</td>\n",
       "      <td>bonefish kitchen staff bonefish grill greenville</td>\n",
       "    </tr>\n",
       "  </tbody>\n",
       "</table>\n",
       "</div>"
      ],
      "text/plain": [
       "   Applicant.ID                                select_pos_com_city\n",
       "0         10000                cashier valet need wallypark newark\n",
       "1         10000  macys seasonal retail fragrance cashier garden...\n",
       "2         10001  part time showroom sales cashier grizzly indus...\n",
       "3         10002  event specialist part time advantage sales mar...\n",
       "4         10002   bonefish kitchen staff bonefish grill greenville"
      ]
     },
     "execution_count": 25,
     "metadata": {},
     "output_type": "execute_result"
    }
   ],
   "source": [
    "\n",
    "df_job_view = df_job_view[['Applicant.ID', 'Job.ID', 'Position', 'Company','City']]\n",
    "df_job_view[\"select_pos_com_city\"] = df_job_view[\"Position\"].map(str) + \"  \" + df_job_view[\"Company\"] +\"  \"+ df_job_view[\"City\"]\n",
    "df_job_view['select_pos_com_city'] = df_job_view['select_pos_com_city'].map(str).apply(clean_txt)\n",
    "df_job_view['select_pos_com_city'] = df_job_view['select_pos_com_city'].str.lower()\n",
    "df_job_view = df_job_view[['Applicant.ID','select_pos_com_city']]\n",
    "df_job_view.head()\n"
   ]
  },
  {
   "cell_type": "markdown",
   "id": "3e014877",
   "metadata": {},
   "source": [
    "### Experience Dataset\n"
   ]
  },
  {
   "cell_type": "code",
   "execution_count": 26,
   "id": "bbf607f4",
   "metadata": {},
   "outputs": [
    {
     "data": {
      "text/html": [
       "<div>\n",
       "<style scoped>\n",
       "    .dataframe tbody tr th:only-of-type {\n",
       "        vertical-align: middle;\n",
       "    }\n",
       "\n",
       "    .dataframe tbody tr th {\n",
       "        vertical-align: top;\n",
       "    }\n",
       "\n",
       "    .dataframe thead th {\n",
       "        text-align: right;\n",
       "    }\n",
       "</style>\n",
       "<table border=\"1\" class=\"dataframe\">\n",
       "  <thead>\n",
       "    <tr style=\"text-align: right;\">\n",
       "      <th></th>\n",
       "      <th>Applicant.ID</th>\n",
       "      <th>Position.Name</th>\n",
       "      <th>Employer.Name</th>\n",
       "      <th>City</th>\n",
       "      <th>State.Name</th>\n",
       "      <th>State.Code</th>\n",
       "      <th>Start.Date</th>\n",
       "      <th>End.Date</th>\n",
       "      <th>Job.Description</th>\n",
       "      <th>Salary</th>\n",
       "      <th>Can.Contact.Employer</th>\n",
       "      <th>Created.At</th>\n",
       "      <th>Updated.At</th>\n",
       "    </tr>\n",
       "  </thead>\n",
       "  <tbody>\n",
       "    <tr>\n",
       "      <th>0</th>\n",
       "      <td>10001</td>\n",
       "      <td>Account Manager / Sales Administration / Quali...</td>\n",
       "      <td>Barcode Resourcing</td>\n",
       "      <td>Bellingham</td>\n",
       "      <td>Washington</td>\n",
       "      <td>WA</td>\n",
       "      <td>2012-10-15</td>\n",
       "      <td>NaN</td>\n",
       "      <td>NaN</td>\n",
       "      <td>NaN</td>\n",
       "      <td>NaN</td>\n",
       "      <td>2014-12-12 20:10:02 UTC</td>\n",
       "      <td>2014-12-12 20:10:02 UTC</td>\n",
       "    </tr>\n",
       "    <tr>\n",
       "      <th>1</th>\n",
       "      <td>10001</td>\n",
       "      <td>Electronics Technician / Item Master Controller</td>\n",
       "      <td>Ryzex Group</td>\n",
       "      <td>Bellingham</td>\n",
       "      <td>Washington</td>\n",
       "      <td>WA</td>\n",
       "      <td>2001-12-01</td>\n",
       "      <td>2012-04-01</td>\n",
       "      <td>NaN</td>\n",
       "      <td>NaN</td>\n",
       "      <td>NaN</td>\n",
       "      <td>2014-12-12 20:10:02 UTC</td>\n",
       "      <td>2014-12-12 20:10:02 UTC</td>\n",
       "    </tr>\n",
       "  </tbody>\n",
       "</table>\n",
       "</div>"
      ],
      "text/plain": [
       "   Applicant.ID                                      Position.Name  \\\n",
       "0         10001  Account Manager / Sales Administration / Quali...   \n",
       "1         10001    Electronics Technician / Item Master Controller   \n",
       "\n",
       "        Employer.Name        City  State.Name State.Code  Start.Date  \\\n",
       "0  Barcode Resourcing  Bellingham  Washington         WA  2012-10-15   \n",
       "1         Ryzex Group  Bellingham  Washington         WA  2001-12-01   \n",
       "\n",
       "     End.Date Job.Description  Salary Can.Contact.Employer  \\\n",
       "0         NaN             NaN     NaN                  NaN   \n",
       "1  2012-04-01             NaN     NaN                  NaN   \n",
       "\n",
       "                Created.At               Updated.At  \n",
       "0  2014-12-12 20:10:02 UTC  2014-12-12 20:10:02 UTC  \n",
       "1  2014-12-12 20:10:02 UTC  2014-12-12 20:10:02 UTC  "
      ]
     },
     "execution_count": 26,
     "metadata": {},
     "output_type": "execute_result"
    }
   ],
   "source": [
    "#Experience\n",
    "df_experience = pd.read_csv(r\"Dataset\\Experience.csv\")\n",
    "df_experience.head(2)"
   ]
  },
  {
   "cell_type": "code",
   "execution_count": 27,
   "id": "e50940be",
   "metadata": {},
   "outputs": [
    {
     "data": {
      "text/html": [
       "<div>\n",
       "<style scoped>\n",
       "    .dataframe tbody tr th:only-of-type {\n",
       "        vertical-align: middle;\n",
       "    }\n",
       "\n",
       "    .dataframe tbody tr th {\n",
       "        vertical-align: top;\n",
       "    }\n",
       "\n",
       "    .dataframe thead th {\n",
       "        text-align: right;\n",
       "    }\n",
       "</style>\n",
       "<table border=\"1\" class=\"dataframe\">\n",
       "  <thead>\n",
       "    <tr style=\"text-align: right;\">\n",
       "      <th></th>\n",
       "      <th>Applicant.ID</th>\n",
       "      <th>Position.Name</th>\n",
       "    </tr>\n",
       "  </thead>\n",
       "  <tbody>\n",
       "    <tr>\n",
       "      <th>0</th>\n",
       "      <td>10001</td>\n",
       "      <td>account manager sales administration quality a...</td>\n",
       "    </tr>\n",
       "    <tr>\n",
       "      <th>1</th>\n",
       "      <td>10001</td>\n",
       "      <td>electronics technician item master controller</td>\n",
       "    </tr>\n",
       "    <tr>\n",
       "      <th>2</th>\n",
       "      <td>10001</td>\n",
       "      <td>machine operator</td>\n",
       "    </tr>\n",
       "    <tr>\n",
       "      <th>3</th>\n",
       "      <td>10003</td>\n",
       "      <td>maintenance technician</td>\n",
       "    </tr>\n",
       "    <tr>\n",
       "      <th>4</th>\n",
       "      <td>10003</td>\n",
       "      <td>electrical helper</td>\n",
       "    </tr>\n",
       "  </tbody>\n",
       "</table>\n",
       "</div>"
      ],
      "text/plain": [
       "   Applicant.ID                                      Position.Name\n",
       "0         10001  account manager sales administration quality a...\n",
       "1         10001      electronics technician item master controller\n",
       "2         10001                                   machine operator\n",
       "3         10003                             maintenance technician\n",
       "4         10003                                  electrical helper"
      ]
     },
     "execution_count": 27,
     "metadata": {},
     "output_type": "execute_result"
    }
   ],
   "source": [
    "#taking only Position\n",
    "df_experience= df_experience[['Applicant.ID','Position.Name']]\n",
    "#cleaning the text\n",
    "df_experience['Position.Name'] = df_experience['Position.Name'].map(str).apply(clean_txt)\n",
    "df_experience.head()\n"
   ]
  },
  {
   "cell_type": "code",
   "execution_count": 28,
   "id": "592f2ff5",
   "metadata": {},
   "outputs": [
    {
     "data": {
      "text/html": [
       "<div>\n",
       "<style scoped>\n",
       "    .dataframe tbody tr th:only-of-type {\n",
       "        vertical-align: middle;\n",
       "    }\n",
       "\n",
       "    .dataframe tbody tr th {\n",
       "        vertical-align: top;\n",
       "    }\n",
       "\n",
       "    .dataframe thead th {\n",
       "        text-align: right;\n",
       "    }\n",
       "</style>\n",
       "<table border=\"1\" class=\"dataframe\">\n",
       "  <thead>\n",
       "    <tr style=\"text-align: right;\">\n",
       "      <th></th>\n",
       "      <th>Applicant.ID</th>\n",
       "      <th>Position.Name</th>\n",
       "    </tr>\n",
       "  </thead>\n",
       "  <tbody>\n",
       "    <tr>\n",
       "      <th>2763</th>\n",
       "      <td>2</td>\n",
       "      <td>volunteer</td>\n",
       "    </tr>\n",
       "    <tr>\n",
       "      <th>2762</th>\n",
       "      <td>2</td>\n",
       "      <td>writer uloop blog</td>\n",
       "    </tr>\n",
       "    <tr>\n",
       "      <th>3759</th>\n",
       "      <td>3</td>\n",
       "      <td>market intern</td>\n",
       "    </tr>\n",
       "    <tr>\n",
       "      <th>3758</th>\n",
       "      <td>3</td>\n",
       "      <td>server</td>\n",
       "    </tr>\n",
       "    <tr>\n",
       "      <th>3757</th>\n",
       "      <td>3</td>\n",
       "      <td>prep cook</td>\n",
       "    </tr>\n",
       "  </tbody>\n",
       "</table>\n",
       "</div>"
      ],
      "text/plain": [
       "      Applicant.ID      Position.Name\n",
       "2763             2          volunteer\n",
       "2762             2  writer uloop blog\n",
       "3759             3      market intern\n",
       "3758             3             server\n",
       "3757             3          prep cook"
      ]
     },
     "execution_count": 28,
     "metadata": {},
     "output_type": "execute_result"
    }
   ],
   "source": [
    "df_experience =  df_experience.sort_values(by='Applicant.ID')\n",
    "df_experience = df_experience.fillna(\" \")\n",
    "df_experience.head()\n"
   ]
  },
  {
   "cell_type": "markdown",
   "id": "464df0ad",
   "metadata": {},
   "source": [
    "same applicant has 3 applications 100001 in sigle line so we need to join them"
   ]
  },
  {
   "cell_type": "code",
   "execution_count": 29,
   "id": "9b75b515",
   "metadata": {},
   "outputs": [
    {
     "data": {
      "text/html": [
       "<div>\n",
       "<style scoped>\n",
       "    .dataframe tbody tr th:only-of-type {\n",
       "        vertical-align: middle;\n",
       "    }\n",
       "\n",
       "    .dataframe tbody tr th {\n",
       "        vertical-align: top;\n",
       "    }\n",
       "\n",
       "    .dataframe thead th {\n",
       "        text-align: right;\n",
       "    }\n",
       "</style>\n",
       "<table border=\"1\" class=\"dataframe\">\n",
       "  <thead>\n",
       "    <tr style=\"text-align: right;\">\n",
       "      <th></th>\n",
       "      <th>Applicant.ID</th>\n",
       "      <th>Position.Name</th>\n",
       "    </tr>\n",
       "  </thead>\n",
       "  <tbody>\n",
       "    <tr>\n",
       "      <th>0</th>\n",
       "      <td>2</td>\n",
       "      <td>volunteer writer uloop blog</td>\n",
       "    </tr>\n",
       "    <tr>\n",
       "      <th>1</th>\n",
       "      <td>3</td>\n",
       "      <td>market intern server prep cook</td>\n",
       "    </tr>\n",
       "    <tr>\n",
       "      <th>2</th>\n",
       "      <td>6</td>\n",
       "      <td>project assistant</td>\n",
       "    </tr>\n",
       "    <tr>\n",
       "      <th>3</th>\n",
       "      <td>8</td>\n",
       "      <td>deli clerk server cashier food prep order taker</td>\n",
       "    </tr>\n",
       "    <tr>\n",
       "      <th>4</th>\n",
       "      <td>11</td>\n",
       "      <td>cashier</td>\n",
       "    </tr>\n",
       "  </tbody>\n",
       "</table>\n",
       "</div>"
      ],
      "text/plain": [
       "   Applicant.ID                                    Position.Name\n",
       "0             2                      volunteer writer uloop blog\n",
       "1             3                   market intern server prep cook\n",
       "2             6                                project assistant\n",
       "3             8  deli clerk server cashier food prep order taker\n",
       "4            11                                          cashier"
      ]
     },
     "execution_count": 29,
     "metadata": {},
     "output_type": "execute_result"
    }
   ],
   "source": [
    "#adding same rows to a single row\n",
    "df_experience = df_experience.groupby('Applicant.ID', sort=False)['Position.Name'].apply(' '.join).reset_index()\n",
    "df_experience.head(5)"
   ]
  },
  {
   "cell_type": "markdown",
   "id": "beec8291",
   "metadata": {},
   "source": [
    "### Position of Interest dataset"
   ]
  },
  {
   "cell_type": "code",
   "execution_count": 30,
   "id": "97254f68",
   "metadata": {},
   "outputs": [
    {
     "data": {
      "text/html": [
       "<div>\n",
       "<style scoped>\n",
       "    .dataframe tbody tr th:only-of-type {\n",
       "        vertical-align: middle;\n",
       "    }\n",
       "\n",
       "    .dataframe tbody tr th {\n",
       "        vertical-align: top;\n",
       "    }\n",
       "\n",
       "    .dataframe thead th {\n",
       "        text-align: right;\n",
       "    }\n",
       "</style>\n",
       "<table border=\"1\" class=\"dataframe\">\n",
       "  <thead>\n",
       "    <tr style=\"text-align: right;\">\n",
       "      <th></th>\n",
       "      <th>Applicant.ID</th>\n",
       "      <th>Position.Of.Interest</th>\n",
       "      <th>Created.At</th>\n",
       "      <th>Updated.At</th>\n",
       "    </tr>\n",
       "  </thead>\n",
       "  <tbody>\n",
       "    <tr>\n",
       "      <th>6437</th>\n",
       "      <td>96</td>\n",
       "      <td>Server</td>\n",
       "      <td>2014-08-14 15:56:42 UTC</td>\n",
       "      <td>2015-02-26 20:35:12 UTC</td>\n",
       "    </tr>\n",
       "    <tr>\n",
       "      <th>1156</th>\n",
       "      <td>153</td>\n",
       "      <td>Barista</td>\n",
       "      <td>2014-08-14 15:56:43 UTC</td>\n",
       "      <td>2015-02-18 02:35:06 UTC</td>\n",
       "    </tr>\n",
       "    <tr>\n",
       "      <th>1155</th>\n",
       "      <td>153</td>\n",
       "      <td>Host</td>\n",
       "      <td>2014-08-14 15:56:42 UTC</td>\n",
       "      <td>2015-02-26 20:35:12 UTC</td>\n",
       "    </tr>\n",
       "    <tr>\n",
       "      <th>1154</th>\n",
       "      <td>153</td>\n",
       "      <td>Server</td>\n",
       "      <td>2014-08-14 15:56:42 UTC</td>\n",
       "      <td>2015-02-26 20:35:12 UTC</td>\n",
       "    </tr>\n",
       "    <tr>\n",
       "      <th>1158</th>\n",
       "      <td>153</td>\n",
       "      <td>Sales Rep</td>\n",
       "      <td>2014-08-14 15:56:47 UTC</td>\n",
       "      <td>2015-03-02 02:13:08 UTC</td>\n",
       "    </tr>\n",
       "  </tbody>\n",
       "</table>\n",
       "</div>"
      ],
      "text/plain": [
       "      Applicant.ID Position.Of.Interest               Created.At  \\\n",
       "6437            96               Server  2014-08-14 15:56:42 UTC   \n",
       "1156           153              Barista  2014-08-14 15:56:43 UTC   \n",
       "1155           153                 Host  2014-08-14 15:56:42 UTC   \n",
       "1154           153               Server  2014-08-14 15:56:42 UTC   \n",
       "1158           153            Sales Rep  2014-08-14 15:56:47 UTC   \n",
       "\n",
       "                   Updated.At  \n",
       "6437  2015-02-26 20:35:12 UTC  \n",
       "1156  2015-02-18 02:35:06 UTC  \n",
       "1155  2015-02-26 20:35:12 UTC  \n",
       "1154  2015-02-26 20:35:12 UTC  \n",
       "1158  2015-03-02 02:13:08 UTC  "
      ]
     },
     "execution_count": 30,
     "metadata": {},
     "output_type": "execute_result"
    }
   ],
   "source": [
    "#Position of interest\n",
    "df_poi =  pd.read_csv(r\"Dataset\\Positions_Of_Interest.csv\", sep=',')\n",
    "df_poi = df_poi.sort_values(by='Applicant.ID')\n",
    "df_poi.head()"
   ]
  },
  {
   "cell_type": "code",
   "execution_count": 31,
   "id": "ef1b11ae",
   "metadata": {},
   "outputs": [
    {
     "data": {
      "text/html": [
       "<div>\n",
       "<style scoped>\n",
       "    .dataframe tbody tr th:only-of-type {\n",
       "        vertical-align: middle;\n",
       "    }\n",
       "\n",
       "    .dataframe tbody tr th {\n",
       "        vertical-align: top;\n",
       "    }\n",
       "\n",
       "    .dataframe thead th {\n",
       "        text-align: right;\n",
       "    }\n",
       "</style>\n",
       "<table border=\"1\" class=\"dataframe\">\n",
       "  <thead>\n",
       "    <tr style=\"text-align: right;\">\n",
       "      <th></th>\n",
       "      <th>Applicant.ID</th>\n",
       "      <th>Position.Of.Interest</th>\n",
       "    </tr>\n",
       "  </thead>\n",
       "  <tbody>\n",
       "    <tr>\n",
       "      <th>6437</th>\n",
       "      <td>96</td>\n",
       "      <td>server</td>\n",
       "    </tr>\n",
       "    <tr>\n",
       "      <th>1156</th>\n",
       "      <td>153</td>\n",
       "      <td>barista</td>\n",
       "    </tr>\n",
       "    <tr>\n",
       "      <th>1155</th>\n",
       "      <td>153</td>\n",
       "      <td>host</td>\n",
       "    </tr>\n",
       "    <tr>\n",
       "      <th>1154</th>\n",
       "      <td>153</td>\n",
       "      <td>server</td>\n",
       "    </tr>\n",
       "    <tr>\n",
       "      <th>1158</th>\n",
       "      <td>153</td>\n",
       "      <td>sales rep</td>\n",
       "    </tr>\n",
       "    <tr>\n",
       "      <th>1157</th>\n",
       "      <td>153</td>\n",
       "      <td>customer service rep</td>\n",
       "    </tr>\n",
       "    <tr>\n",
       "      <th>1952</th>\n",
       "      <td>256</td>\n",
       "      <td>host</td>\n",
       "    </tr>\n",
       "    <tr>\n",
       "      <th>1957</th>\n",
       "      <td>256</td>\n",
       "      <td>production area</td>\n",
       "    </tr>\n",
       "    <tr>\n",
       "      <th>1956</th>\n",
       "      <td>256</td>\n",
       "      <td>sales rep</td>\n",
       "    </tr>\n",
       "    <tr>\n",
       "      <th>1955</th>\n",
       "      <td>256</td>\n",
       "      <td>customer service rep</td>\n",
       "    </tr>\n",
       "  </tbody>\n",
       "</table>\n",
       "</div>"
      ],
      "text/plain": [
       "      Applicant.ID  Position.Of.Interest\n",
       "6437            96                server\n",
       "1156           153               barista\n",
       "1155           153                  host\n",
       "1154           153                server\n",
       "1158           153             sales rep\n",
       "1157           153  customer service rep\n",
       "1952           256                  host\n",
       "1957           256       production area\n",
       "1956           256             sales rep\n",
       "1955           256  customer service rep"
      ]
     },
     "execution_count": 31,
     "metadata": {},
     "output_type": "execute_result"
    }
   ],
   "source": [
    "df_poi = df_poi.drop('Updated.At', 1)\n",
    "df_poi = df_poi.drop('Created.At', 1)\n",
    "\n",
    "#cleaning the text\n",
    "df_poi['Position.Of.Interest']=df_poi['Position.Of.Interest'].map(str).apply(clean_txt)\n",
    "df_poi = df_poi.fillna(\" \")\n",
    "df_poi.head(10)"
   ]
  },
  {
   "cell_type": "code",
   "execution_count": 32,
   "id": "cb18b2ce",
   "metadata": {},
   "outputs": [
    {
     "data": {
      "text/html": [
       "<div>\n",
       "<style scoped>\n",
       "    .dataframe tbody tr th:only-of-type {\n",
       "        vertical-align: middle;\n",
       "    }\n",
       "\n",
       "    .dataframe tbody tr th {\n",
       "        vertical-align: top;\n",
       "    }\n",
       "\n",
       "    .dataframe thead th {\n",
       "        text-align: right;\n",
       "    }\n",
       "</style>\n",
       "<table border=\"1\" class=\"dataframe\">\n",
       "  <thead>\n",
       "    <tr style=\"text-align: right;\">\n",
       "      <th></th>\n",
       "      <th>Applicant.ID</th>\n",
       "      <th>Position.Of.Interest</th>\n",
       "    </tr>\n",
       "  </thead>\n",
       "  <tbody>\n",
       "    <tr>\n",
       "      <th>0</th>\n",
       "      <td>96</td>\n",
       "      <td>server</td>\n",
       "    </tr>\n",
       "    <tr>\n",
       "      <th>1</th>\n",
       "      <td>153</td>\n",
       "      <td>barista host server sales rep customer service...</td>\n",
       "    </tr>\n",
       "    <tr>\n",
       "      <th>2</th>\n",
       "      <td>256</td>\n",
       "      <td>host production area sales rep customer servic...</td>\n",
       "    </tr>\n",
       "    <tr>\n",
       "      <th>3</th>\n",
       "      <td>438</td>\n",
       "      <td>customer service rep barista host server</td>\n",
       "    </tr>\n",
       "    <tr>\n",
       "      <th>4</th>\n",
       "      <td>568</td>\n",
       "      <td>receptionist customer service rep book keeper</td>\n",
       "    </tr>\n",
       "  </tbody>\n",
       "</table>\n",
       "</div>"
      ],
      "text/plain": [
       "   Applicant.ID                               Position.Of.Interest\n",
       "0            96                                             server\n",
       "1           153  barista host server sales rep customer service...\n",
       "2           256  host production area sales rep customer servic...\n",
       "3           438           customer service rep barista host server\n",
       "4           568      receptionist customer service rep book keeper"
      ]
     },
     "execution_count": 32,
     "metadata": {},
     "output_type": "execute_result"
    }
   ],
   "source": [
    "df_poi = df_poi.groupby('Applicant.ID', sort=True)['Position.Of.Interest'].apply(' '.join).reset_index()\n",
    "df_poi.head()"
   ]
  },
  {
   "cell_type": "markdown",
   "id": "bcf9bf76",
   "metadata": {},
   "source": [
    "## Creating the final user dataset by merging all the users datasets"
   ]
  },
  {
   "cell_type": "markdown",
   "id": "34bcbf2e",
   "metadata": {},
   "source": [
    "Merging jobs and experience dataframes"
   ]
  },
  {
   "cell_type": "code",
   "execution_count": 33,
   "id": "148040ae",
   "metadata": {},
   "outputs": [
    {
     "data": {
      "text/html": [
       "<div>\n",
       "<style scoped>\n",
       "    .dataframe tbody tr th:only-of-type {\n",
       "        vertical-align: middle;\n",
       "    }\n",
       "\n",
       "    .dataframe tbody tr th {\n",
       "        vertical-align: top;\n",
       "    }\n",
       "\n",
       "    .dataframe thead th {\n",
       "        text-align: right;\n",
       "    }\n",
       "</style>\n",
       "<table border=\"1\" class=\"dataframe\">\n",
       "  <thead>\n",
       "    <tr style=\"text-align: right;\">\n",
       "      <th></th>\n",
       "      <th>Applicant.ID</th>\n",
       "      <th>select_pos_com_city</th>\n",
       "      <th>Position.Name</th>\n",
       "    </tr>\n",
       "  </thead>\n",
       "  <tbody>\n",
       "    <tr>\n",
       "      <th>12370</th>\n",
       "      <td>2</td>\n",
       "      <td></td>\n",
       "      <td>volunteer writer uloop blog</td>\n",
       "    </tr>\n",
       "    <tr>\n",
       "      <th>12371</th>\n",
       "      <td>3</td>\n",
       "      <td></td>\n",
       "      <td>market intern server prep cook</td>\n",
       "    </tr>\n",
       "    <tr>\n",
       "      <th>12372</th>\n",
       "      <td>6</td>\n",
       "      <td></td>\n",
       "      <td>project assistant</td>\n",
       "    </tr>\n",
       "    <tr>\n",
       "      <th>12373</th>\n",
       "      <td>8</td>\n",
       "      <td></td>\n",
       "      <td>deli clerk server cashier food prep order taker</td>\n",
       "    </tr>\n",
       "    <tr>\n",
       "      <th>12374</th>\n",
       "      <td>11</td>\n",
       "      <td></td>\n",
       "      <td>cashier</td>\n",
       "    </tr>\n",
       "  </tbody>\n",
       "</table>\n",
       "</div>"
      ],
      "text/plain": [
       "       Applicant.ID select_pos_com_city  \\\n",
       "12370             2                       \n",
       "12371             3                       \n",
       "12372             6                       \n",
       "12373             8                       \n",
       "12374            11                       \n",
       "\n",
       "                                         Position.Name  \n",
       "12370                      volunteer writer uloop blog  \n",
       "12371                   market intern server prep cook  \n",
       "12372                                project assistant  \n",
       "12373  deli clerk server cashier food prep order taker  \n",
       "12374                                          cashier  "
      ]
     },
     "execution_count": 33,
     "metadata": {},
     "output_type": "execute_result"
    }
   ],
   "source": [
    "\n",
    "df_jobs_exp = df_job_view.merge(df_experience, left_on='Applicant.ID', right_on='Applicant.ID', how='outer')\n",
    "df_jobs_exp = df_jobs_exp.fillna(' ')\n",
    "df_jobs_exp = df_jobs_exp.sort_values(by='Applicant.ID')\n",
    "df_jobs_exp.head()"
   ]
  },
  {
   "cell_type": "markdown",
   "id": "256a6392",
   "metadata": {},
   "source": [
    "Merging position of interest with existing dataframe"
   ]
  },
  {
   "cell_type": "code",
   "execution_count": 34,
   "id": "97becaee",
   "metadata": {},
   "outputs": [
    {
     "data": {
      "text/html": [
       "<div>\n",
       "<style scoped>\n",
       "    .dataframe tbody tr th:only-of-type {\n",
       "        vertical-align: middle;\n",
       "    }\n",
       "\n",
       "    .dataframe tbody tr th {\n",
       "        vertical-align: top;\n",
       "    }\n",
       "\n",
       "    .dataframe thead th {\n",
       "        text-align: right;\n",
       "    }\n",
       "</style>\n",
       "<table border=\"1\" class=\"dataframe\">\n",
       "  <thead>\n",
       "    <tr style=\"text-align: right;\">\n",
       "      <th></th>\n",
       "      <th>Applicant.ID</th>\n",
       "      <th>select_pos_com_city</th>\n",
       "      <th>Position.Name</th>\n",
       "      <th>Position.Of.Interest</th>\n",
       "    </tr>\n",
       "  </thead>\n",
       "  <tbody>\n",
       "    <tr>\n",
       "      <th>0</th>\n",
       "      <td>2</td>\n",
       "      <td></td>\n",
       "      <td>volunteer writer uloop blog</td>\n",
       "      <td></td>\n",
       "    </tr>\n",
       "    <tr>\n",
       "      <th>1</th>\n",
       "      <td>3</td>\n",
       "      <td></td>\n",
       "      <td>market intern server prep cook</td>\n",
       "      <td></td>\n",
       "    </tr>\n",
       "    <tr>\n",
       "      <th>2</th>\n",
       "      <td>6</td>\n",
       "      <td></td>\n",
       "      <td>project assistant</td>\n",
       "      <td></td>\n",
       "    </tr>\n",
       "    <tr>\n",
       "      <th>3</th>\n",
       "      <td>8</td>\n",
       "      <td></td>\n",
       "      <td>deli clerk server cashier food prep order taker</td>\n",
       "      <td></td>\n",
       "    </tr>\n",
       "    <tr>\n",
       "      <th>4</th>\n",
       "      <td>11</td>\n",
       "      <td></td>\n",
       "      <td>cashier</td>\n",
       "      <td></td>\n",
       "    </tr>\n",
       "  </tbody>\n",
       "</table>\n",
       "</div>"
      ],
      "text/plain": [
       "   Applicant.ID select_pos_com_city  \\\n",
       "0             2                       \n",
       "1             3                       \n",
       "2             6                       \n",
       "3             8                       \n",
       "4            11                       \n",
       "\n",
       "                                     Position.Name Position.Of.Interest  \n",
       "0                      volunteer writer uloop blog                       \n",
       "1                   market intern server prep cook                       \n",
       "2                                project assistant                       \n",
       "3  deli clerk server cashier food prep order taker                       \n",
       "4                                          cashier                       "
      ]
     },
     "execution_count": 34,
     "metadata": {},
     "output_type": "execute_result"
    }
   ],
   "source": [
    "\n",
    "df_jobs_exp_poi = df_jobs_exp.merge(df_poi, left_on='Applicant.ID', right_on='Applicant.ID', how='outer')\n",
    "df_jobs_exp_poi = df_jobs_exp_poi.fillna(' ')\n",
    "df_jobs_exp_poi = df_jobs_exp_poi.sort_values(by='Applicant.ID')\n",
    "df_jobs_exp_poi.head()"
   ]
  },
  {
   "cell_type": "markdown",
   "id": "8aad14ff",
   "metadata": {},
   "source": [
    "combining all the columns"
   ]
  },
  {
   "cell_type": "code",
   "execution_count": 35,
   "id": "0b99784f",
   "metadata": {},
   "outputs": [
    {
     "data": {
      "text/html": [
       "<div>\n",
       "<style scoped>\n",
       "    .dataframe tbody tr th:only-of-type {\n",
       "        vertical-align: middle;\n",
       "    }\n",
       "\n",
       "    .dataframe tbody tr th {\n",
       "        vertical-align: top;\n",
       "    }\n",
       "\n",
       "    .dataframe thead th {\n",
       "        text-align: right;\n",
       "    }\n",
       "</style>\n",
       "<table border=\"1\" class=\"dataframe\">\n",
       "  <thead>\n",
       "    <tr style=\"text-align: right;\">\n",
       "      <th></th>\n",
       "      <th>Applicant.ID</th>\n",
       "      <th>select_pos_com_city</th>\n",
       "      <th>Position.Name</th>\n",
       "      <th>Position.Of.Interest</th>\n",
       "      <th>text</th>\n",
       "    </tr>\n",
       "  </thead>\n",
       "  <tbody>\n",
       "    <tr>\n",
       "      <th>0</th>\n",
       "      <td>2</td>\n",
       "      <td></td>\n",
       "      <td>volunteer writer uloop blog</td>\n",
       "      <td></td>\n",
       "      <td>volunteer writer uloop blog</td>\n",
       "    </tr>\n",
       "    <tr>\n",
       "      <th>1</th>\n",
       "      <td>3</td>\n",
       "      <td></td>\n",
       "      <td>market intern server prep cook</td>\n",
       "      <td></td>\n",
       "      <td>market intern server prep cook</td>\n",
       "    </tr>\n",
       "    <tr>\n",
       "      <th>2</th>\n",
       "      <td>6</td>\n",
       "      <td></td>\n",
       "      <td>project assistant</td>\n",
       "      <td></td>\n",
       "      <td>project assistant</td>\n",
       "    </tr>\n",
       "    <tr>\n",
       "      <th>3</th>\n",
       "      <td>8</td>\n",
       "      <td></td>\n",
       "      <td>deli clerk server cashier food prep order taker</td>\n",
       "      <td></td>\n",
       "      <td>deli clerk server cashier food prep order tak...</td>\n",
       "    </tr>\n",
       "    <tr>\n",
       "      <th>4</th>\n",
       "      <td>11</td>\n",
       "      <td></td>\n",
       "      <td>cashier</td>\n",
       "      <td></td>\n",
       "      <td>cashier</td>\n",
       "    </tr>\n",
       "  </tbody>\n",
       "</table>\n",
       "</div>"
      ],
      "text/plain": [
       "   Applicant.ID select_pos_com_city  \\\n",
       "0             2                       \n",
       "1             3                       \n",
       "2             6                       \n",
       "3             8                       \n",
       "4            11                       \n",
       "\n",
       "                                     Position.Name Position.Of.Interest  \\\n",
       "0                      volunteer writer uloop blog                        \n",
       "1                   market intern server prep cook                        \n",
       "2                                project assistant                        \n",
       "3  deli clerk server cashier food prep order taker                        \n",
       "4                                          cashier                        \n",
       "\n",
       "                                                text  \n",
       "0                      volunteer writer uloop blog    \n",
       "1                   market intern server prep cook    \n",
       "2                                project assistant    \n",
       "3   deli clerk server cashier food prep order tak...  \n",
       "4                                          cashier    "
      ]
     },
     "execution_count": 35,
     "metadata": {},
     "output_type": "execute_result"
    }
   ],
   "source": [
    "df_jobs_exp_poi[\"text\"] = df_jobs_exp_poi[\"select_pos_com_city\"].map(str) + df_jobs_exp_poi[\"Position.Name\"] +\" \"+ df_jobs_exp_poi[\"Position.Of.Interest\"]\n",
    "\n",
    "df_jobs_exp_poi.head()"
   ]
  },
  {
   "cell_type": "markdown",
   "id": "1350d730",
   "metadata": {},
   "source": [
    "Select only \"Applicant.ID\" and \"text\" columns:"
   ]
  },
  {
   "cell_type": "code",
   "execution_count": 36,
   "id": "0cac7090",
   "metadata": {},
   "outputs": [
    {
     "data": {
      "text/html": [
       "<div>\n",
       "<style scoped>\n",
       "    .dataframe tbody tr th:only-of-type {\n",
       "        vertical-align: middle;\n",
       "    }\n",
       "\n",
       "    .dataframe tbody tr th {\n",
       "        vertical-align: top;\n",
       "    }\n",
       "\n",
       "    .dataframe thead th {\n",
       "        text-align: right;\n",
       "    }\n",
       "</style>\n",
       "<table border=\"1\" class=\"dataframe\">\n",
       "  <thead>\n",
       "    <tr style=\"text-align: right;\">\n",
       "      <th></th>\n",
       "      <th>Applicant.ID</th>\n",
       "      <th>text</th>\n",
       "    </tr>\n",
       "  </thead>\n",
       "  <tbody>\n",
       "    <tr>\n",
       "      <th>0</th>\n",
       "      <td>2</td>\n",
       "      <td>volunteer writer uloop blog</td>\n",
       "    </tr>\n",
       "    <tr>\n",
       "      <th>1</th>\n",
       "      <td>3</td>\n",
       "      <td>market intern server prep cook</td>\n",
       "    </tr>\n",
       "    <tr>\n",
       "      <th>2</th>\n",
       "      <td>6</td>\n",
       "      <td>project assistant</td>\n",
       "    </tr>\n",
       "    <tr>\n",
       "      <th>3</th>\n",
       "      <td>8</td>\n",
       "      <td>deli clerk server cashier food prep order tak...</td>\n",
       "    </tr>\n",
       "    <tr>\n",
       "      <th>4</th>\n",
       "      <td>11</td>\n",
       "      <td>cashier</td>\n",
       "    </tr>\n",
       "  </tbody>\n",
       "</table>\n",
       "</div>"
      ],
      "text/plain": [
       "   Applicant.ID                                               text\n",
       "0             2                      volunteer writer uloop blog  \n",
       "1             3                   market intern server prep cook  \n",
       "2             6                                project assistant  \n",
       "3             8   deli clerk server cashier food prep order tak...\n",
       "4            11                                          cashier  "
      ]
     },
     "execution_count": 36,
     "metadata": {},
     "output_type": "execute_result"
    }
   ],
   "source": [
    "df_final_person= df_jobs_exp_poi[['Applicant.ID','text']]\n",
    "df_final_person.head()"
   ]
  },
  {
   "cell_type": "code",
   "execution_count": 37,
   "id": "8c540934",
   "metadata": {},
   "outputs": [
    {
     "data": {
      "text/html": [
       "<div>\n",
       "<style scoped>\n",
       "    .dataframe tbody tr th:only-of-type {\n",
       "        vertical-align: middle;\n",
       "    }\n",
       "\n",
       "    .dataframe tbody tr th {\n",
       "        vertical-align: top;\n",
       "    }\n",
       "\n",
       "    .dataframe thead th {\n",
       "        text-align: right;\n",
       "    }\n",
       "</style>\n",
       "<table border=\"1\" class=\"dataframe\">\n",
       "  <thead>\n",
       "    <tr style=\"text-align: right;\">\n",
       "      <th></th>\n",
       "      <th>Applicant_id</th>\n",
       "      <th>text</th>\n",
       "    </tr>\n",
       "  </thead>\n",
       "  <tbody>\n",
       "    <tr>\n",
       "      <th>0</th>\n",
       "      <td>2</td>\n",
       "      <td>volunteer writer uloop blog</td>\n",
       "    </tr>\n",
       "    <tr>\n",
       "      <th>1</th>\n",
       "      <td>3</td>\n",
       "      <td>market intern server prep cook</td>\n",
       "    </tr>\n",
       "    <tr>\n",
       "      <th>2</th>\n",
       "      <td>6</td>\n",
       "      <td>project assistant</td>\n",
       "    </tr>\n",
       "    <tr>\n",
       "      <th>3</th>\n",
       "      <td>8</td>\n",
       "      <td>deli clerk server cashier food prep order tak...</td>\n",
       "    </tr>\n",
       "    <tr>\n",
       "      <th>4</th>\n",
       "      <td>11</td>\n",
       "      <td>cashier</td>\n",
       "    </tr>\n",
       "  </tbody>\n",
       "</table>\n",
       "</div>"
      ],
      "text/plain": [
       "   Applicant_id                                               text\n",
       "0             2                      volunteer writer uloop blog  \n",
       "1             3                   market intern server prep cook  \n",
       "2             6                                project assistant  \n",
       "3             8   deli clerk server cashier food prep order tak...\n",
       "4            11                                          cashier  "
      ]
     },
     "execution_count": 37,
     "metadata": {},
     "output_type": "execute_result"
    }
   ],
   "source": [
    "df_final_person.columns = ['Applicant_id','text']\n",
    "df_final_person.head()"
   ]
  },
  {
   "cell_type": "code",
   "execution_count": 38,
   "id": "a4916cea",
   "metadata": {},
   "outputs": [
    {
     "name": "stderr",
     "output_type": "stream",
     "text": [
      "c:\\Users\\ssart\\anaconda3\\envs\\myenv2\\lib\\site-packages\\ipykernel_launcher.py:1: SettingWithCopyWarning: \n",
      "A value is trying to be set on a copy of a slice from a DataFrame.\n",
      "Try using .loc[row_indexer,col_indexer] = value instead\n",
      "\n",
      "See the caveats in the documentation: https://pandas.pydata.org/pandas-docs/stable/user_guide/indexing.html#returning-a-view-versus-a-copy\n",
      "  \"\"\"Entry point for launching an IPython kernel.\n"
     ]
    },
    {
     "data": {
      "text/html": [
       "<div>\n",
       "<style scoped>\n",
       "    .dataframe tbody tr th:only-of-type {\n",
       "        vertical-align: middle;\n",
       "    }\n",
       "\n",
       "    .dataframe tbody tr th {\n",
       "        vertical-align: top;\n",
       "    }\n",
       "\n",
       "    .dataframe thead th {\n",
       "        text-align: right;\n",
       "    }\n",
       "</style>\n",
       "<table border=\"1\" class=\"dataframe\">\n",
       "  <thead>\n",
       "    <tr style=\"text-align: right;\">\n",
       "      <th></th>\n",
       "      <th>Applicant_id</th>\n",
       "      <th>text</th>\n",
       "    </tr>\n",
       "  </thead>\n",
       "  <tbody>\n",
       "    <tr>\n",
       "      <th>0</th>\n",
       "      <td>2</td>\n",
       "      <td>volunteer writer uloop blog</td>\n",
       "    </tr>\n",
       "    <tr>\n",
       "      <th>1</th>\n",
       "      <td>3</td>\n",
       "      <td>market intern server prep cook</td>\n",
       "    </tr>\n",
       "    <tr>\n",
       "      <th>2</th>\n",
       "      <td>6</td>\n",
       "      <td>project assistant</td>\n",
       "    </tr>\n",
       "    <tr>\n",
       "      <th>3</th>\n",
       "      <td>8</td>\n",
       "      <td>deli clerk server cashier food prep order taker</td>\n",
       "    </tr>\n",
       "    <tr>\n",
       "      <th>4</th>\n",
       "      <td>11</td>\n",
       "      <td>cashier</td>\n",
       "    </tr>\n",
       "  </tbody>\n",
       "</table>\n",
       "</div>"
      ],
      "text/plain": [
       "   Applicant_id                                             text\n",
       "0             2                      volunteer writer uloop blog\n",
       "1             3                   market intern server prep cook\n",
       "2             6                                project assistant\n",
       "3             8  deli clerk server cashier food prep order taker\n",
       "4            11                                          cashier"
      ]
     },
     "execution_count": 38,
     "metadata": {},
     "output_type": "execute_result"
    }
   ],
   "source": [
    "df_final_person['text'] = df_final_person['text'].apply(clean_txt)\n",
    "df_final_person.head()\n"
   ]
  },
  {
   "cell_type": "markdown",
   "id": "cd03026f",
   "metadata": {},
   "source": [
    "### For test the recommender we select the user  which ID is 326"
   ]
  },
  {
   "cell_type": "code",
   "execution_count": 39,
   "id": "4f9a1c71",
   "metadata": {},
   "outputs": [
    {
     "data": {
      "text/html": [
       "<div>\n",
       "<style scoped>\n",
       "    .dataframe tbody tr th:only-of-type {\n",
       "        vertical-align: middle;\n",
       "    }\n",
       "\n",
       "    .dataframe tbody tr th {\n",
       "        vertical-align: top;\n",
       "    }\n",
       "\n",
       "    .dataframe thead th {\n",
       "        text-align: right;\n",
       "    }\n",
       "</style>\n",
       "<table border=\"1\" class=\"dataframe\">\n",
       "  <thead>\n",
       "    <tr style=\"text-align: right;\">\n",
       "      <th></th>\n",
       "      <th>Applicant_id</th>\n",
       "      <th>text</th>\n",
       "    </tr>\n",
       "  </thead>\n",
       "  <tbody>\n",
       "    <tr>\n",
       "      <th>186</th>\n",
       "      <td>326</td>\n",
       "      <td>java developer</td>\n",
       "    </tr>\n",
       "  </tbody>\n",
       "</table>\n",
       "</div>"
      ],
      "text/plain": [
       "     Applicant_id            text\n",
       "186           326  java developer"
      ]
     },
     "execution_count": 39,
     "metadata": {},
     "output_type": "execute_result"
    }
   ],
   "source": [
    "u = 326\n",
    "index = np.where(df_final_person['Applicant_id'] == u)[0][0]\n",
    "user_q = df_final_person.iloc[[index]]\n",
    "user_q"
   ]
  },
  {
   "cell_type": "markdown",
   "id": "5431540a",
   "metadata": {},
   "source": [
    "## The recommender systems\n"
   ]
  },
  {
   "cell_type": "markdown",
   "id": "11ec2060",
   "metadata": {},
   "source": [
    "#### Computing cosine similarity using tfidf"
   ]
  },
  {
   "cell_type": "code",
   "execution_count": 40,
   "id": "d9123da3",
   "metadata": {},
   "outputs": [],
   "source": [
    "\n",
    "from sklearn.metrics.pairwise import cosine_similarity\n",
    "user_tfidf = tfidf_vectorizer.transform(user_q['text'])\n",
    "cos_similarity_tfidf = map(lambda x: cosine_similarity(user_tfidf, x),tfidf_jobid)\n"
   ]
  },
  {
   "cell_type": "code",
   "execution_count": 41,
   "id": "47b937ff",
   "metadata": {},
   "outputs": [],
   "source": [
    "output2 = list(cos_similarity_tfidf)"
   ]
  },
  {
   "cell_type": "markdown",
   "id": "bac7a0ce",
   "metadata": {},
   "source": [
    "###  Function to get the top-N recomendations order by score"
   ]
  },
  {
   "cell_type": "code",
   "execution_count": 42,
   "id": "b76865ae",
   "metadata": {},
   "outputs": [],
   "source": [
    "\n",
    "def get_recommendation(top, df_all, scores):\n",
    "  recommendation = pd.DataFrame(columns = ['ApplicantID', 'JobID',  'title', 'score'])\n",
    "  count = 0\n",
    "  for i in top:\n",
    "      recommendation.at[count, 'ApplicantID'] = u\n",
    "      recommendation.at[count, 'JobID'] = df_all['Job.ID'][i]\n",
    "      recommendation.at[count, 'title'] = df_all['Title'][i]\n",
    "      recommendation.at[count, 'score'] =  scores[count]\n",
    "      count += 1\n",
    "  return recommendation"
   ]
  },
  {
   "cell_type": "markdown",
   "id": "ba428f82",
   "metadata": {},
   "source": [
    "## The top recommendations using TF-IDF"
   ]
  },
  {
   "cell_type": "code",
   "execution_count": 43,
   "id": "7d613d6f",
   "metadata": {},
   "outputs": [
    {
     "data": {
      "text/html": [
       "<div>\n",
       "<style scoped>\n",
       "    .dataframe tbody tr th:only-of-type {\n",
       "        vertical-align: middle;\n",
       "    }\n",
       "\n",
       "    .dataframe tbody tr th {\n",
       "        vertical-align: top;\n",
       "    }\n",
       "\n",
       "    .dataframe thead th {\n",
       "        text-align: right;\n",
       "    }\n",
       "</style>\n",
       "<table border=\"1\" class=\"dataframe\">\n",
       "  <thead>\n",
       "    <tr style=\"text-align: right;\">\n",
       "      <th></th>\n",
       "      <th>ApplicantID</th>\n",
       "      <th>JobID</th>\n",
       "      <th>title</th>\n",
       "      <th>score</th>\n",
       "    </tr>\n",
       "  </thead>\n",
       "  <tbody>\n",
       "    <tr>\n",
       "      <th>0</th>\n",
       "      <td>326</td>\n",
       "      <td>303112</td>\n",
       "      <td>Java Developer @ TransHire</td>\n",
       "      <td>0.749478</td>\n",
       "    </tr>\n",
       "    <tr>\n",
       "      <th>1</th>\n",
       "      <td>326</td>\n",
       "      <td>294684</td>\n",
       "      <td>Java Developer @ Kavaliro</td>\n",
       "      <td>0.740886</td>\n",
       "    </tr>\n",
       "    <tr>\n",
       "      <th>2</th>\n",
       "      <td>326</td>\n",
       "      <td>269922</td>\n",
       "      <td>Entry Level Java Developer / Jr. Java Develope...</td>\n",
       "      <td>0.737007</td>\n",
       "    </tr>\n",
       "    <tr>\n",
       "      <th>3</th>\n",
       "      <td>326</td>\n",
       "      <td>141831</td>\n",
       "      <td>Lead Java/J2EE Developer - Contract to Hire @ ...</td>\n",
       "      <td>0.671667</td>\n",
       "    </tr>\n",
       "    <tr>\n",
       "      <th>4</th>\n",
       "      <td>326</td>\n",
       "      <td>270171</td>\n",
       "      <td>Senior Java Developer - Contract to Hire - Gre...</td>\n",
       "      <td>0.645037</td>\n",
       "    </tr>\n",
       "    <tr>\n",
       "      <th>5</th>\n",
       "      <td>326</td>\n",
       "      <td>305264</td>\n",
       "      <td>Sr. Java Developer @ Paladin Consulting Inc</td>\n",
       "      <td>0.625532</td>\n",
       "    </tr>\n",
       "    <tr>\n",
       "      <th>6</th>\n",
       "      <td>326</td>\n",
       "      <td>309945</td>\n",
       "      <td>Java Software Engineer @ iTech Solutions, Inc.</td>\n",
       "      <td>0.592291</td>\n",
       "    </tr>\n",
       "    <tr>\n",
       "      <th>7</th>\n",
       "      <td>326</td>\n",
       "      <td>245753</td>\n",
       "      <td>Java Administrator @ ConsultNet</td>\n",
       "      <td>0.530231</td>\n",
       "    </tr>\n",
       "    <tr>\n",
       "      <th>8</th>\n",
       "      <td>326</td>\n",
       "      <td>146640</td>\n",
       "      <td>Jr. Java Developer @ Paladin Consulting Inc</td>\n",
       "      <td>0.510534</td>\n",
       "    </tr>\n",
       "    <tr>\n",
       "      <th>9</th>\n",
       "      <td>326</td>\n",
       "      <td>150882</td>\n",
       "      <td>Java Consultant - Mobile Apps Development @ Co...</td>\n",
       "      <td>0.486789</td>\n",
       "    </tr>\n",
       "  </tbody>\n",
       "</table>\n",
       "</div>"
      ],
      "text/plain": [
       "  ApplicantID   JobID                                              title  \\\n",
       "0         326  303112                         Java Developer @ TransHire   \n",
       "1         326  294684                          Java Developer @ Kavaliro   \n",
       "2         326  269922  Entry Level Java Developer / Jr. Java Develope...   \n",
       "3         326  141831  Lead Java/J2EE Developer - Contract to Hire @ ...   \n",
       "4         326  270171  Senior Java Developer - Contract to Hire - Gre...   \n",
       "5         326  305264        Sr. Java Developer @ Paladin Consulting Inc   \n",
       "6         326  309945     Java Software Engineer @ iTech Solutions, Inc.   \n",
       "7         326  245753                    Java Administrator @ ConsultNet   \n",
       "8         326  146640        Jr. Java Developer @ Paladin Consulting Inc   \n",
       "9         326  150882  Java Consultant - Mobile Apps Development @ Co...   \n",
       "\n",
       "      score  \n",
       "0  0.749478  \n",
       "1  0.740886  \n",
       "2  0.737007  \n",
       "3  0.671667  \n",
       "4  0.645037  \n",
       "5  0.625532  \n",
       "6  0.592291  \n",
       "7  0.530231  \n",
       "8  0.510534  \n",
       "9  0.486789  "
      ]
     },
     "execution_count": 43,
     "metadata": {},
     "output_type": "execute_result"
    }
   ],
   "source": [
    "top = sorted(range(len(output2)), key=lambda i: output2[i], reverse=True)[:10]\n",
    "list_scores = [output2[i][0][0] for i in top]\n",
    "get_recommendation(top,df_all, list_scores)"
   ]
  },
  {
   "cell_type": "markdown",
   "id": "21eb9072",
   "metadata": {},
   "source": [
    "### Using Count Vectorizer"
   ]
  },
  {
   "cell_type": "code",
   "execution_count": 44,
   "id": "3af54f56",
   "metadata": {},
   "outputs": [
    {
     "data": {
      "text/plain": [
       "<84090x50754 sparse matrix of type '<class 'numpy.int64'>'\n",
       "\twith 8263698 stored elements in Compressed Sparse Row format>"
      ]
     },
     "execution_count": 44,
     "metadata": {},
     "output_type": "execute_result"
    }
   ],
   "source": [
    "from sklearn.feature_extraction.text import CountVectorizer\n",
    "count_vectorizer = CountVectorizer()\n",
    "\n",
    "count_jobid = count_vectorizer.fit_transform((df_all['text'])) #fitting and transforming the vector\n",
    "count_jobid"
   ]
  },
  {
   "cell_type": "code",
   "execution_count": 45,
   "id": "7c32f547",
   "metadata": {},
   "outputs": [],
   "source": [
    "from sklearn.metrics.pairwise import cosine_similarity\n",
    "user_count = count_vectorizer.transform(user_q['text'])\n",
    "cos_similarity_countv = map(lambda x: cosine_similarity(user_count, x),count_jobid)\n"
   ]
  },
  {
   "cell_type": "code",
   "execution_count": 46,
   "id": "2ce133a1",
   "metadata": {},
   "outputs": [],
   "source": [
    "output2 = list(cos_similarity_countv)"
   ]
  },
  {
   "cell_type": "markdown",
   "id": "05595328",
   "metadata": {},
   "source": [
    "## The top recommendations using CountVectorizer"
   ]
  },
  {
   "cell_type": "code",
   "execution_count": 47,
   "id": "df5a77ce",
   "metadata": {},
   "outputs": [
    {
     "data": {
      "text/html": [
       "<div>\n",
       "<style scoped>\n",
       "    .dataframe tbody tr th:only-of-type {\n",
       "        vertical-align: middle;\n",
       "    }\n",
       "\n",
       "    .dataframe tbody tr th {\n",
       "        vertical-align: top;\n",
       "    }\n",
       "\n",
       "    .dataframe thead th {\n",
       "        text-align: right;\n",
       "    }\n",
       "</style>\n",
       "<table border=\"1\" class=\"dataframe\">\n",
       "  <thead>\n",
       "    <tr style=\"text-align: right;\">\n",
       "      <th></th>\n",
       "      <th>ApplicantID</th>\n",
       "      <th>JobID</th>\n",
       "      <th>title</th>\n",
       "      <th>score</th>\n",
       "    </tr>\n",
       "  </thead>\n",
       "  <tbody>\n",
       "    <tr>\n",
       "      <th>0</th>\n",
       "      <td>326</td>\n",
       "      <td>303112</td>\n",
       "      <td>Java Developer @ TransHire</td>\n",
       "      <td>0.635001</td>\n",
       "    </tr>\n",
       "    <tr>\n",
       "      <th>1</th>\n",
       "      <td>326</td>\n",
       "      <td>294684</td>\n",
       "      <td>Java Developer @ Kavaliro</td>\n",
       "      <td>0.600245</td>\n",
       "    </tr>\n",
       "    <tr>\n",
       "      <th>2</th>\n",
       "      <td>326</td>\n",
       "      <td>269922</td>\n",
       "      <td>Entry Level Java Developer / Jr. Java Develope...</td>\n",
       "      <td>0.571726</td>\n",
       "    </tr>\n",
       "    <tr>\n",
       "      <th>3</th>\n",
       "      <td>326</td>\n",
       "      <td>141831</td>\n",
       "      <td>Lead Java/J2EE Developer - Contract to Hire @ ...</td>\n",
       "      <td>0.496907</td>\n",
       "    </tr>\n",
       "    <tr>\n",
       "      <th>4</th>\n",
       "      <td>326</td>\n",
       "      <td>270171</td>\n",
       "      <td>Senior Java Developer - Contract to Hire - Gre...</td>\n",
       "      <td>0.481757</td>\n",
       "    </tr>\n",
       "    <tr>\n",
       "      <th>5</th>\n",
       "      <td>326</td>\n",
       "      <td>309945</td>\n",
       "      <td>Java Software Engineer @ iTech Solutions, Inc.</td>\n",
       "      <td>0.454673</td>\n",
       "    </tr>\n",
       "    <tr>\n",
       "      <th>6</th>\n",
       "      <td>326</td>\n",
       "      <td>305264</td>\n",
       "      <td>Sr. Java Developer @ Paladin Consulting Inc</td>\n",
       "      <td>0.406017</td>\n",
       "    </tr>\n",
       "    <tr>\n",
       "      <th>7</th>\n",
       "      <td>326</td>\n",
       "      <td>245753</td>\n",
       "      <td>Java Administrator @ ConsultNet</td>\n",
       "      <td>0.378968</td>\n",
       "    </tr>\n",
       "    <tr>\n",
       "      <th>8</th>\n",
       "      <td>326</td>\n",
       "      <td>150882</td>\n",
       "      <td>Java Consultant - Mobile Apps Development @ Co...</td>\n",
       "      <td>0.363216</td>\n",
       "    </tr>\n",
       "    <tr>\n",
       "      <th>9</th>\n",
       "      <td>326</td>\n",
       "      <td>146640</td>\n",
       "      <td>Jr. Java Developer @ Paladin Consulting Inc</td>\n",
       "      <td>0.323381</td>\n",
       "    </tr>\n",
       "  </tbody>\n",
       "</table>\n",
       "</div>"
      ],
      "text/plain": [
       "  ApplicantID   JobID                                              title  \\\n",
       "0         326  303112                         Java Developer @ TransHire   \n",
       "1         326  294684                          Java Developer @ Kavaliro   \n",
       "2         326  269922  Entry Level Java Developer / Jr. Java Develope...   \n",
       "3         326  141831  Lead Java/J2EE Developer - Contract to Hire @ ...   \n",
       "4         326  270171  Senior Java Developer - Contract to Hire - Gre...   \n",
       "5         326  309945     Java Software Engineer @ iTech Solutions, Inc.   \n",
       "6         326  305264        Sr. Java Developer @ Paladin Consulting Inc   \n",
       "7         326  245753                    Java Administrator @ ConsultNet   \n",
       "8         326  150882  Java Consultant - Mobile Apps Development @ Co...   \n",
       "9         326  146640        Jr. Java Developer @ Paladin Consulting Inc   \n",
       "\n",
       "      score  \n",
       "0  0.635001  \n",
       "1  0.600245  \n",
       "2  0.571726  \n",
       "3  0.496907  \n",
       "4  0.481757  \n",
       "5  0.454673  \n",
       "6  0.406017  \n",
       "7  0.378968  \n",
       "8  0.363216  \n",
       "9  0.323381  "
      ]
     },
     "execution_count": 47,
     "metadata": {},
     "output_type": "execute_result"
    }
   ],
   "source": [
    "top = sorted(range(len(output2)), key=lambda i: output2[i], reverse=True)[:10]\n",
    "list_scores = [output2[i][0][0] for i in top]\n",
    "get_recommendation(top, df_all, list_scores)"
   ]
  },
  {
   "cell_type": "markdown",
   "id": "af6c7c2f",
   "metadata": {},
   "source": [
    "## Recomendation  using Spacy"
   ]
  },
  {
   "cell_type": "code",
   "execution_count": 48,
   "id": "b2cf0cd2",
   "metadata": {},
   "outputs": [
    {
     "name": "stdout",
     "output_type": "stream",
     "text": [
      "✔ Download and installation successful\n",
      "You can now load the package via spacy.load('en_core_web_lg')\n"
     ]
    }
   ],
   "source": [
    "import spacy\n",
    "spacy.cli.download(\"en_core_web_lg\")  # Downloads and links model\n",
    "\n",
    "nlp = spacy.load(\"en_core_web_lg\")     # Loads model\n",
    "\n"
   ]
  },
  {
   "cell_type": "markdown",
   "id": "c4d763b4",
   "metadata": {},
   "source": [
    "#### Transform the copurs text to the *spacy's documents*"
   ]
  },
  {
   "cell_type": "code",
   "execution_count": 49,
   "id": "069210c5",
   "metadata": {},
   "outputs": [
    {
     "ename": "MemoryError",
     "evalue": "Unable to allocate 1.22 MiB for an array with shape (313, 1024) and data type float32",
     "output_type": "error",
     "traceback": [
      "\u001b[1;31m---------------------------------------------------------------------------\u001b[0m",
      "\u001b[1;31mMemoryError\u001b[0m                               Traceback (most recent call last)",
      "\u001b[1;32m<timed exec>\u001b[0m in \u001b[0;36m<module>\u001b[1;34m\u001b[0m\n",
      "\u001b[1;32mc:\\Users\\ssart\\anaconda3\\envs\\myenv2\\lib\\site-packages\\spacy\\language.py\u001b[0m in \u001b[0;36m__call__\u001b[1;34m(self, text, disable, component_cfg)\u001b[0m\n\u001b[0;32m   1045\u001b[0m                 \u001b[1;32mraise\u001b[0m \u001b[0mValueError\u001b[0m\u001b[1;33m(\u001b[0m\u001b[0mErrors\u001b[0m\u001b[1;33m.\u001b[0m\u001b[0mE109\u001b[0m\u001b[1;33m.\u001b[0m\u001b[0mformat\u001b[0m\u001b[1;33m(\u001b[0m\u001b[0mname\u001b[0m\u001b[1;33m=\u001b[0m\u001b[0mname\u001b[0m\u001b[1;33m)\u001b[0m\u001b[1;33m)\u001b[0m \u001b[1;32mfrom\u001b[0m \u001b[0me\u001b[0m\u001b[1;33m\u001b[0m\u001b[1;33m\u001b[0m\u001b[0m\n\u001b[0;32m   1046\u001b[0m             \u001b[1;32mexcept\u001b[0m \u001b[0mException\u001b[0m \u001b[1;32mas\u001b[0m \u001b[0me\u001b[0m\u001b[1;33m:\u001b[0m\u001b[1;33m\u001b[0m\u001b[1;33m\u001b[0m\u001b[0m\n\u001b[1;32m-> 1047\u001b[1;33m                 \u001b[0merror_handler\u001b[0m\u001b[1;33m(\u001b[0m\u001b[0mname\u001b[0m\u001b[1;33m,\u001b[0m \u001b[0mproc\u001b[0m\u001b[1;33m,\u001b[0m \u001b[1;33m[\u001b[0m\u001b[0mdoc\u001b[0m\u001b[1;33m]\u001b[0m\u001b[1;33m,\u001b[0m \u001b[0me\u001b[0m\u001b[1;33m)\u001b[0m\u001b[1;33m\u001b[0m\u001b[1;33m\u001b[0m\u001b[0m\n\u001b[0m\u001b[0;32m   1048\u001b[0m             \u001b[1;32mif\u001b[0m \u001b[1;32mnot\u001b[0m \u001b[0misinstance\u001b[0m\u001b[1;33m(\u001b[0m\u001b[0mdoc\u001b[0m\u001b[1;33m,\u001b[0m \u001b[0mDoc\u001b[0m\u001b[1;33m)\u001b[0m\u001b[1;33m:\u001b[0m\u001b[1;33m\u001b[0m\u001b[1;33m\u001b[0m\u001b[0m\n\u001b[0;32m   1049\u001b[0m                 \u001b[1;32mraise\u001b[0m \u001b[0mValueError\u001b[0m\u001b[1;33m(\u001b[0m\u001b[0mErrors\u001b[0m\u001b[1;33m.\u001b[0m\u001b[0mE005\u001b[0m\u001b[1;33m.\u001b[0m\u001b[0mformat\u001b[0m\u001b[1;33m(\u001b[0m\u001b[0mname\u001b[0m\u001b[1;33m=\u001b[0m\u001b[0mname\u001b[0m\u001b[1;33m,\u001b[0m \u001b[0mreturned_type\u001b[0m\u001b[1;33m=\u001b[0m\u001b[0mtype\u001b[0m\u001b[1;33m(\u001b[0m\u001b[0mdoc\u001b[0m\u001b[1;33m)\u001b[0m\u001b[1;33m)\u001b[0m\u001b[1;33m)\u001b[0m\u001b[1;33m\u001b[0m\u001b[1;33m\u001b[0m\u001b[0m\n",
      "\u001b[1;32mc:\\Users\\ssart\\anaconda3\\envs\\myenv2\\lib\\site-packages\\spacy\\util.py\u001b[0m in \u001b[0;36mraise_error\u001b[1;34m(proc_name, proc, docs, e)\u001b[0m\n\u001b[0;32m   1722\u001b[0m \u001b[1;33m\u001b[0m\u001b[0m\n\u001b[0;32m   1723\u001b[0m \u001b[1;32mdef\u001b[0m \u001b[0mraise_error\u001b[0m\u001b[1;33m(\u001b[0m\u001b[0mproc_name\u001b[0m\u001b[1;33m,\u001b[0m \u001b[0mproc\u001b[0m\u001b[1;33m,\u001b[0m \u001b[0mdocs\u001b[0m\u001b[1;33m,\u001b[0m \u001b[0me\u001b[0m\u001b[1;33m)\u001b[0m\u001b[1;33m:\u001b[0m\u001b[1;33m\u001b[0m\u001b[1;33m\u001b[0m\u001b[0m\n\u001b[1;32m-> 1724\u001b[1;33m     \u001b[1;32mraise\u001b[0m \u001b[0me\u001b[0m\u001b[1;33m\u001b[0m\u001b[1;33m\u001b[0m\u001b[0m\n\u001b[0m\u001b[0;32m   1725\u001b[0m \u001b[1;33m\u001b[0m\u001b[0m\n\u001b[0;32m   1726\u001b[0m \u001b[1;33m\u001b[0m\u001b[0m\n",
      "\u001b[1;32mc:\\Users\\ssart\\anaconda3\\envs\\myenv2\\lib\\site-packages\\spacy\\language.py\u001b[0m in \u001b[0;36m__call__\u001b[1;34m(self, text, disable, component_cfg)\u001b[0m\n\u001b[0;32m   1040\u001b[0m                 \u001b[0merror_handler\u001b[0m \u001b[1;33m=\u001b[0m \u001b[0mproc\u001b[0m\u001b[1;33m.\u001b[0m\u001b[0mget_error_handler\u001b[0m\u001b[1;33m(\u001b[0m\u001b[1;33m)\u001b[0m\u001b[1;33m\u001b[0m\u001b[1;33m\u001b[0m\u001b[0m\n\u001b[0;32m   1041\u001b[0m             \u001b[1;32mtry\u001b[0m\u001b[1;33m:\u001b[0m\u001b[1;33m\u001b[0m\u001b[1;33m\u001b[0m\u001b[0m\n\u001b[1;32m-> 1042\u001b[1;33m                 \u001b[0mdoc\u001b[0m \u001b[1;33m=\u001b[0m \u001b[0mproc\u001b[0m\u001b[1;33m(\u001b[0m\u001b[0mdoc\u001b[0m\u001b[1;33m,\u001b[0m \u001b[1;33m**\u001b[0m\u001b[0mcomponent_cfg\u001b[0m\u001b[1;33m.\u001b[0m\u001b[0mget\u001b[0m\u001b[1;33m(\u001b[0m\u001b[0mname\u001b[0m\u001b[1;33m,\u001b[0m \u001b[1;33m{\u001b[0m\u001b[1;33m}\u001b[0m\u001b[1;33m)\u001b[0m\u001b[1;33m)\u001b[0m  \u001b[1;31m# type: ignore[call-arg]\u001b[0m\u001b[1;33m\u001b[0m\u001b[1;33m\u001b[0m\u001b[0m\n\u001b[0m\u001b[0;32m   1043\u001b[0m             \u001b[1;32mexcept\u001b[0m \u001b[0mKeyError\u001b[0m \u001b[1;32mas\u001b[0m \u001b[0me\u001b[0m\u001b[1;33m:\u001b[0m\u001b[1;33m\u001b[0m\u001b[1;33m\u001b[0m\u001b[0m\n\u001b[0;32m   1044\u001b[0m                 \u001b[1;31m# This typically happens if a component is not initialized\u001b[0m\u001b[1;33m\u001b[0m\u001b[1;33m\u001b[0m\u001b[1;33m\u001b[0m\u001b[0m\n",
      "\u001b[1;32mc:\\Users\\ssart\\anaconda3\\envs\\myenv2\\lib\\site-packages\\spacy\\pipeline\\trainable_pipe.pyx\u001b[0m in \u001b[0;36mspacy.pipeline.trainable_pipe.TrainablePipe.__call__\u001b[1;34m()\u001b[0m\n",
      "\u001b[1;32mc:\\Users\\ssart\\anaconda3\\envs\\myenv2\\lib\\site-packages\\spacy\\util.py\u001b[0m in \u001b[0;36mraise_error\u001b[1;34m(proc_name, proc, docs, e)\u001b[0m\n\u001b[0;32m   1722\u001b[0m \u001b[1;33m\u001b[0m\u001b[0m\n\u001b[0;32m   1723\u001b[0m \u001b[1;32mdef\u001b[0m \u001b[0mraise_error\u001b[0m\u001b[1;33m(\u001b[0m\u001b[0mproc_name\u001b[0m\u001b[1;33m,\u001b[0m \u001b[0mproc\u001b[0m\u001b[1;33m,\u001b[0m \u001b[0mdocs\u001b[0m\u001b[1;33m,\u001b[0m \u001b[0me\u001b[0m\u001b[1;33m)\u001b[0m\u001b[1;33m:\u001b[0m\u001b[1;33m\u001b[0m\u001b[1;33m\u001b[0m\u001b[0m\n\u001b[1;32m-> 1724\u001b[1;33m     \u001b[1;32mraise\u001b[0m \u001b[0me\u001b[0m\u001b[1;33m\u001b[0m\u001b[1;33m\u001b[0m\u001b[0m\n\u001b[0m\u001b[0;32m   1725\u001b[0m \u001b[1;33m\u001b[0m\u001b[0m\n\u001b[0;32m   1726\u001b[0m \u001b[1;33m\u001b[0m\u001b[0m\n",
      "\u001b[1;32mc:\\Users\\ssart\\anaconda3\\envs\\myenv2\\lib\\site-packages\\spacy\\pipeline\\trainable_pipe.pyx\u001b[0m in \u001b[0;36mspacy.pipeline.trainable_pipe.TrainablePipe.__call__\u001b[1;34m()\u001b[0m\n",
      "\u001b[1;32mc:\\Users\\ssart\\anaconda3\\envs\\myenv2\\lib\\site-packages\\spacy\\pipeline\\transition_parser.pyx\u001b[0m in \u001b[0;36mspacy.pipeline.transition_parser.Parser.predict\u001b[1;34m()\u001b[0m\n",
      "\u001b[1;32mc:\\Users\\ssart\\anaconda3\\envs\\myenv2\\lib\\site-packages\\spacy\\pipeline\\transition_parser.pyx\u001b[0m in \u001b[0;36mspacy.pipeline.transition_parser.Parser.greedy_parse\u001b[1;34m()\u001b[0m\n",
      "\u001b[1;32mc:\\Users\\ssart\\anaconda3\\envs\\myenv2\\lib\\site-packages\\thinc\\model.py\u001b[0m in \u001b[0;36mpredict\u001b[1;34m(self, X)\u001b[0m\n\u001b[0;32m    332\u001b[0m         \u001b[0monly\u001b[0m \u001b[0mthe\u001b[0m \u001b[0moutput\u001b[0m\u001b[1;33m,\u001b[0m \u001b[0minstead\u001b[0m \u001b[0mof\u001b[0m \u001b[0mthe\u001b[0m\u001b[0;31m \u001b[0m\u001b[0;31m`\u001b[0m\u001b[1;33m(\u001b[0m\u001b[0moutput\u001b[0m\u001b[1;33m,\u001b[0m \u001b[0mcallback\u001b[0m\u001b[1;33m)\u001b[0m\u001b[0;31m`\u001b[0m \u001b[0mtuple\u001b[0m\u001b[1;33m.\u001b[0m\u001b[1;33m\u001b[0m\u001b[1;33m\u001b[0m\u001b[0m\n\u001b[0;32m    333\u001b[0m         \"\"\"\n\u001b[1;32m--> 334\u001b[1;33m         \u001b[1;32mreturn\u001b[0m \u001b[0mself\u001b[0m\u001b[1;33m.\u001b[0m\u001b[0m_func\u001b[0m\u001b[1;33m(\u001b[0m\u001b[0mself\u001b[0m\u001b[1;33m,\u001b[0m \u001b[0mX\u001b[0m\u001b[1;33m,\u001b[0m \u001b[0mis_train\u001b[0m\u001b[1;33m=\u001b[0m\u001b[1;32mFalse\u001b[0m\u001b[1;33m)\u001b[0m\u001b[1;33m[\u001b[0m\u001b[1;36m0\u001b[0m\u001b[1;33m]\u001b[0m\u001b[1;33m\u001b[0m\u001b[1;33m\u001b[0m\u001b[0m\n\u001b[0m\u001b[0;32m    335\u001b[0m \u001b[1;33m\u001b[0m\u001b[0m\n\u001b[0;32m    336\u001b[0m     \u001b[1;32mdef\u001b[0m \u001b[0mfinish_update\u001b[0m\u001b[1;33m(\u001b[0m\u001b[0mself\u001b[0m\u001b[1;33m,\u001b[0m \u001b[0moptimizer\u001b[0m\u001b[1;33m:\u001b[0m \u001b[0mOptimizer\u001b[0m\u001b[1;33m)\u001b[0m \u001b[1;33m->\u001b[0m \u001b[1;32mNone\u001b[0m\u001b[1;33m:\u001b[0m\u001b[1;33m\u001b[0m\u001b[1;33m\u001b[0m\u001b[0m\n",
      "\u001b[1;32mc:\\Users\\ssart\\anaconda3\\envs\\myenv2\\lib\\site-packages\\spacy\\ml\\tb_framework.py\u001b[0m in \u001b[0;36mforward\u001b[1;34m(model, X, is_train)\u001b[0m\n\u001b[0;32m     37\u001b[0m         \u001b[0munseen_classes\u001b[0m\u001b[1;33m=\u001b[0m\u001b[0mmodel\u001b[0m\u001b[1;33m.\u001b[0m\u001b[0mattrs\u001b[0m\u001b[1;33m[\u001b[0m\u001b[1;34m\"unseen_classes\"\u001b[0m\u001b[1;33m]\u001b[0m\u001b[1;33m,\u001b[0m\u001b[1;33m\u001b[0m\u001b[1;33m\u001b[0m\u001b[0m\n\u001b[0;32m     38\u001b[0m         \u001b[0mtrain\u001b[0m\u001b[1;33m=\u001b[0m\u001b[0mis_train\u001b[0m\u001b[1;33m,\u001b[0m\u001b[1;33m\u001b[0m\u001b[1;33m\u001b[0m\u001b[0m\n\u001b[1;32m---> 39\u001b[1;33m         \u001b[0mhas_upper\u001b[0m\u001b[1;33m=\u001b[0m\u001b[0mmodel\u001b[0m\u001b[1;33m.\u001b[0m\u001b[0mattrs\u001b[0m\u001b[1;33m[\u001b[0m\u001b[1;34m\"has_upper\"\u001b[0m\u001b[1;33m]\u001b[0m\u001b[1;33m,\u001b[0m\u001b[1;33m\u001b[0m\u001b[1;33m\u001b[0m\u001b[0m\n\u001b[0m\u001b[0;32m     40\u001b[0m     )\n\u001b[0;32m     41\u001b[0m \u001b[1;33m\u001b[0m\u001b[0m\n",
      "\u001b[1;32mc:\\Users\\ssart\\anaconda3\\envs\\myenv2\\lib\\site-packages\\spacy\\ml\\parser_model.pyx\u001b[0m in \u001b[0;36mspacy.ml.parser_model.ParserStepModel.__init__\u001b[1;34m()\u001b[0m\n",
      "\u001b[1;32mc:\\Users\\ssart\\anaconda3\\envs\\myenv2\\lib\\site-packages\\spacy\\ml\\parser_model.pyx\u001b[0m in \u001b[0;36mspacy.ml.parser_model.precompute_hiddens.__init__\u001b[1;34m()\u001b[0m\n",
      "\u001b[1;32mc:\\Users\\ssart\\anaconda3\\envs\\myenv2\\lib\\site-packages\\thinc\\model.py\u001b[0m in \u001b[0;36m__call__\u001b[1;34m(self, X, is_train)\u001b[0m\n\u001b[0;32m    308\u001b[0m         \"\"\"Call the model's `forward` function, returning the output and a\n\u001b[0;32m    309\u001b[0m         callback to compute the gradients via backpropagation.\"\"\"\n\u001b[1;32m--> 310\u001b[1;33m         \u001b[1;32mreturn\u001b[0m \u001b[0mself\u001b[0m\u001b[1;33m.\u001b[0m\u001b[0m_func\u001b[0m\u001b[1;33m(\u001b[0m\u001b[0mself\u001b[0m\u001b[1;33m,\u001b[0m \u001b[0mX\u001b[0m\u001b[1;33m,\u001b[0m \u001b[0mis_train\u001b[0m\u001b[1;33m=\u001b[0m\u001b[0mis_train\u001b[0m\u001b[1;33m)\u001b[0m\u001b[1;33m\u001b[0m\u001b[1;33m\u001b[0m\u001b[0m\n\u001b[0m\u001b[0;32m    311\u001b[0m \u001b[1;33m\u001b[0m\u001b[0m\n\u001b[0;32m    312\u001b[0m     \u001b[1;32mdef\u001b[0m \u001b[0minitialize\u001b[0m\u001b[1;33m(\u001b[0m\u001b[0mself\u001b[0m\u001b[1;33m,\u001b[0m \u001b[0mX\u001b[0m\u001b[1;33m:\u001b[0m \u001b[0mOptional\u001b[0m\u001b[1;33m[\u001b[0m\u001b[0mInT\u001b[0m\u001b[1;33m]\u001b[0m \u001b[1;33m=\u001b[0m \u001b[1;32mNone\u001b[0m\u001b[1;33m,\u001b[0m \u001b[0mY\u001b[0m\u001b[1;33m:\u001b[0m \u001b[0mOptional\u001b[0m\u001b[1;33m[\u001b[0m\u001b[0mOutT\u001b[0m\u001b[1;33m]\u001b[0m \u001b[1;33m=\u001b[0m \u001b[1;32mNone\u001b[0m\u001b[1;33m)\u001b[0m \u001b[1;33m->\u001b[0m \u001b[1;34m\"Model\"\u001b[0m\u001b[1;33m:\u001b[0m\u001b[1;33m\u001b[0m\u001b[1;33m\u001b[0m\u001b[0m\n",
      "\u001b[1;32mc:\\Users\\ssart\\anaconda3\\envs\\myenv2\\lib\\site-packages\\spacy\\ml\\_precomputable_affine.py\u001b[0m in \u001b[0;36mforward\u001b[1;34m(model, X, is_train)\u001b[0m\n\u001b[0;32m     24\u001b[0m     \u001b[0mW\u001b[0m \u001b[1;33m=\u001b[0m \u001b[0mmodel\u001b[0m\u001b[1;33m.\u001b[0m\u001b[0mget_param\u001b[0m\u001b[1;33m(\u001b[0m\u001b[1;34m\"W\"\u001b[0m\u001b[1;33m)\u001b[0m\u001b[1;33m\u001b[0m\u001b[1;33m\u001b[0m\u001b[0m\n\u001b[0;32m     25\u001b[0m     \u001b[1;31m# Preallocate array for layer output, including padding.\u001b[0m\u001b[1;33m\u001b[0m\u001b[1;33m\u001b[0m\u001b[1;33m\u001b[0m\u001b[0m\n\u001b[1;32m---> 26\u001b[1;33m     \u001b[0mYf\u001b[0m \u001b[1;33m=\u001b[0m \u001b[0mmodel\u001b[0m\u001b[1;33m.\u001b[0m\u001b[0mops\u001b[0m\u001b[1;33m.\u001b[0m\u001b[0malloc2f\u001b[0m\u001b[1;33m(\u001b[0m\u001b[0mX\u001b[0m\u001b[1;33m.\u001b[0m\u001b[0mshape\u001b[0m\u001b[1;33m[\u001b[0m\u001b[1;36m0\u001b[0m\u001b[1;33m]\u001b[0m \u001b[1;33m+\u001b[0m \u001b[1;36m1\u001b[0m\u001b[1;33m,\u001b[0m \u001b[0mnF\u001b[0m \u001b[1;33m*\u001b[0m \u001b[0mnO\u001b[0m \u001b[1;33m*\u001b[0m \u001b[0mnP\u001b[0m\u001b[1;33m,\u001b[0m \u001b[0mzeros\u001b[0m\u001b[1;33m=\u001b[0m\u001b[1;32mFalse\u001b[0m\u001b[1;33m)\u001b[0m\u001b[1;33m\u001b[0m\u001b[1;33m\u001b[0m\u001b[0m\n\u001b[0m\u001b[0;32m     27\u001b[0m     \u001b[0mmodel\u001b[0m\u001b[1;33m.\u001b[0m\u001b[0mops\u001b[0m\u001b[1;33m.\u001b[0m\u001b[0mgemm\u001b[0m\u001b[1;33m(\u001b[0m\u001b[0mX\u001b[0m\u001b[1;33m,\u001b[0m \u001b[0mW\u001b[0m\u001b[1;33m.\u001b[0m\u001b[0mreshape\u001b[0m\u001b[1;33m(\u001b[0m\u001b[1;33m(\u001b[0m\u001b[0mnF\u001b[0m \u001b[1;33m*\u001b[0m \u001b[0mnO\u001b[0m \u001b[1;33m*\u001b[0m \u001b[0mnP\u001b[0m\u001b[1;33m,\u001b[0m \u001b[0mnI\u001b[0m\u001b[1;33m)\u001b[0m\u001b[1;33m)\u001b[0m\u001b[1;33m,\u001b[0m \u001b[0mtrans2\u001b[0m\u001b[1;33m=\u001b[0m\u001b[1;32mTrue\u001b[0m\u001b[1;33m,\u001b[0m \u001b[0mout\u001b[0m\u001b[1;33m=\u001b[0m\u001b[0mYf\u001b[0m\u001b[1;33m[\u001b[0m\u001b[1;36m1\u001b[0m\u001b[1;33m:\u001b[0m\u001b[1;33m]\u001b[0m\u001b[1;33m)\u001b[0m\u001b[1;33m\u001b[0m\u001b[1;33m\u001b[0m\u001b[0m\n\u001b[0;32m     28\u001b[0m     \u001b[0mYf\u001b[0m \u001b[1;33m=\u001b[0m \u001b[0mYf\u001b[0m\u001b[1;33m.\u001b[0m\u001b[0mreshape\u001b[0m\u001b[1;33m(\u001b[0m\u001b[1;33m(\u001b[0m\u001b[0mYf\u001b[0m\u001b[1;33m.\u001b[0m\u001b[0mshape\u001b[0m\u001b[1;33m[\u001b[0m\u001b[1;36m0\u001b[0m\u001b[1;33m]\u001b[0m\u001b[1;33m,\u001b[0m \u001b[0mnF\u001b[0m\u001b[1;33m,\u001b[0m \u001b[0mnO\u001b[0m\u001b[1;33m,\u001b[0m \u001b[0mnP\u001b[0m\u001b[1;33m)\u001b[0m\u001b[1;33m)\u001b[0m\u001b[1;33m\u001b[0m\u001b[1;33m\u001b[0m\u001b[0m\n",
      "\u001b[1;32mc:\\Users\\ssart\\anaconda3\\envs\\myenv2\\lib\\site-packages\\thinc\\backends\\ops.py\u001b[0m in \u001b[0;36malloc2f\u001b[1;34m(self, d0, d1, dtype, zeros)\u001b[0m\n\u001b[0;32m    514\u001b[0m         \u001b[0mzeros\u001b[0m\u001b[1;33m:\u001b[0m \u001b[0mbool\u001b[0m \u001b[1;33m=\u001b[0m \u001b[1;32mTrue\u001b[0m\u001b[1;33m,\u001b[0m\u001b[1;33m\u001b[0m\u001b[1;33m\u001b[0m\u001b[0m\n\u001b[0;32m    515\u001b[0m     ) -> Floats2d:\n\u001b[1;32m--> 516\u001b[1;33m         \u001b[1;32mreturn\u001b[0m \u001b[0mcast\u001b[0m\u001b[1;33m(\u001b[0m\u001b[0mFloats2d\u001b[0m\u001b[1;33m,\u001b[0m \u001b[0mself\u001b[0m\u001b[1;33m.\u001b[0m\u001b[0malloc\u001b[0m\u001b[1;33m(\u001b[0m\u001b[1;33m(\u001b[0m\u001b[0md0\u001b[0m\u001b[1;33m,\u001b[0m \u001b[0md1\u001b[0m\u001b[1;33m)\u001b[0m\u001b[1;33m,\u001b[0m \u001b[0mdtype\u001b[0m\u001b[1;33m=\u001b[0m\u001b[0mdtype\u001b[0m\u001b[1;33m,\u001b[0m \u001b[0mzeros\u001b[0m\u001b[1;33m=\u001b[0m\u001b[0mzeros\u001b[0m\u001b[1;33m)\u001b[0m\u001b[1;33m)\u001b[0m\u001b[1;33m\u001b[0m\u001b[1;33m\u001b[0m\u001b[0m\n\u001b[0m\u001b[0;32m    517\u001b[0m \u001b[1;33m\u001b[0m\u001b[0m\n\u001b[0;32m    518\u001b[0m     def alloc3f(\n",
      "\u001b[1;32mc:\\Users\\ssart\\anaconda3\\envs\\myenv2\\lib\\site-packages\\thinc\\backends\\numpy_ops.pyx\u001b[0m in \u001b[0;36mthinc.backends.numpy_ops.NumpyOps.alloc\u001b[1;34m()\u001b[0m\n",
      "\u001b[1;31mMemoryError\u001b[0m: Unable to allocate 1.22 MiB for an array with shape (313, 1024) and data type float32"
     ]
    }
   ],
   "source": [
    "%%time\n",
    "list_docs = []\n",
    "for i in range(len(df_all)):\n",
    "  doc = nlp(\"u'\" + df_all['text'][i] + \"'\")\n",
    "  list_docs.append((doc,i))\n",
    "print(len(list_docs))"
   ]
  },
  {
   "cell_type": "code",
   "execution_count": 50,
   "id": "5a0ea0ad",
   "metadata": {},
   "outputs": [],
   "source": [
    "def calculateSimWithSpaCy(nlp, df, user_text, n=6):\n",
    "    # Calculate similarity using spaCy\n",
    "    list_sim =[]\n",
    "    doc1 = nlp(\"u'\" + user_text + \"'\")\n",
    "    for i in df.index:\n",
    "      try:\n",
    "            doc2 = list_docs[i][0]\n",
    "            score = doc1.similarity(doc2)\n",
    "            list_sim.append((doc1, doc2, list_docs[i][1],score))\n",
    "      except:\n",
    "        continue\n",
    "\n",
    "    return  list_sim"
   ]
  },
  {
   "cell_type": "code",
   "execution_count": 51,
   "id": "42c7a2bd",
   "metadata": {},
   "outputs": [
    {
     "data": {
      "text/plain": [
       "'java developer'"
      ]
     },
     "execution_count": 51,
     "metadata": {},
     "output_type": "execute_result"
    }
   ],
   "source": [
    "user_q.text[186]"
   ]
  },
  {
   "cell_type": "code",
   "execution_count": 52,
   "id": "f8e42c06",
   "metadata": {},
   "outputs": [
    {
     "name": "stdout",
     "output_type": "stream",
     "text": [
      "Wall time: 1min 23s\n"
     ]
    }
   ],
   "source": [
    "%%time\n",
    " df3 = calculateSimWithSpaCy(nlp, df_all, user_q.text[186], n=15)"
   ]
  },
  {
   "cell_type": "code",
   "execution_count": 53,
   "id": "73e40cc4",
   "metadata": {},
   "outputs": [],
   "source": [
    "df_recom_spacy = pd.DataFrame(df3).sort_values([3], ascending=False).head(10)"
   ]
  },
  {
   "cell_type": "code",
   "execution_count": 54,
   "id": "562478bc",
   "metadata": {},
   "outputs": [],
   "source": [
    "df_recom_spacy.reset_index(inplace=True)\n"
   ]
  },
  {
   "cell_type": "code",
   "execution_count": 55,
   "id": "b1c0d0a5",
   "metadata": {},
   "outputs": [],
   "source": [
    "index_spacy = df_recom_spacy[2]\n",
    "list_scores = df_recom_spacy[3]"
   ]
  },
  {
   "cell_type": "markdown",
   "id": "4b0b2de0",
   "metadata": {},
   "source": [
    "## The Top recommendations using Spacy"
   ]
  },
  {
   "cell_type": "code",
   "execution_count": 56,
   "id": "0c8af7dc",
   "metadata": {},
   "outputs": [
    {
     "data": {
      "text/html": [
       "<div>\n",
       "<style scoped>\n",
       "    .dataframe tbody tr th:only-of-type {\n",
       "        vertical-align: middle;\n",
       "    }\n",
       "\n",
       "    .dataframe tbody tr th {\n",
       "        vertical-align: top;\n",
       "    }\n",
       "\n",
       "    .dataframe thead th {\n",
       "        text-align: right;\n",
       "    }\n",
       "</style>\n",
       "<table border=\"1\" class=\"dataframe\">\n",
       "  <thead>\n",
       "    <tr style=\"text-align: right;\">\n",
       "      <th></th>\n",
       "      <th>ApplicantID</th>\n",
       "      <th>JobID</th>\n",
       "      <th>title</th>\n",
       "      <th>score</th>\n",
       "    </tr>\n",
       "  </thead>\n",
       "  <tbody>\n",
       "    <tr>\n",
       "      <th>0</th>\n",
       "      <td>326</td>\n",
       "      <td>316105</td>\n",
       "      <td>Bookkeeper @ Accountemps</td>\n",
       "      <td>0.71202</td>\n",
       "    </tr>\n",
       "    <tr>\n",
       "      <th>1</th>\n",
       "      <td>326</td>\n",
       "      <td>142577</td>\n",
       "      <td>Auditor @ Accountemps</td>\n",
       "      <td>0.640437</td>\n",
       "    </tr>\n",
       "    <tr>\n",
       "      <th>2</th>\n",
       "      <td>326</td>\n",
       "      <td>308009</td>\n",
       "      <td>Employment Specialist (PT) - Deaf &amp; HoH @ AHEDD</td>\n",
       "      <td>0.613965</td>\n",
       "    </tr>\n",
       "    <tr>\n",
       "      <th>3</th>\n",
       "      <td>326</td>\n",
       "      <td>272697</td>\n",
       "      <td>AR/Collections @ Accountemps</td>\n",
       "      <td>0.60072</td>\n",
       "    </tr>\n",
       "    <tr>\n",
       "      <th>4</th>\n",
       "      <td>326</td>\n",
       "      <td>136432</td>\n",
       "      <td>Collections Specialist @ Accountemps</td>\n",
       "      <td>0.590401</td>\n",
       "    </tr>\n",
       "    <tr>\n",
       "      <th>5</th>\n",
       "      <td>326</td>\n",
       "      <td>286758</td>\n",
       "      <td>A/P Clerk @ Accountemps</td>\n",
       "      <td>0.588502</td>\n",
       "    </tr>\n",
       "    <tr>\n",
       "      <th>6</th>\n",
       "      <td>326</td>\n",
       "      <td>316108</td>\n",
       "      <td>Staff Accountant @ Accountemps</td>\n",
       "      <td>0.577872</td>\n",
       "    </tr>\n",
       "    <tr>\n",
       "      <th>7</th>\n",
       "      <td>326</td>\n",
       "      <td>273217</td>\n",
       "      <td>Staff Accountant @ Accountemps</td>\n",
       "      <td>0.577872</td>\n",
       "    </tr>\n",
       "    <tr>\n",
       "      <th>8</th>\n",
       "      <td>326</td>\n",
       "      <td>293877</td>\n",
       "      <td>Financial Analyst @ Accountemps</td>\n",
       "      <td>0.570692</td>\n",
       "    </tr>\n",
       "    <tr>\n",
       "      <th>9</th>\n",
       "      <td>326</td>\n",
       "      <td>294234</td>\n",
       "      <td>Intern @ CBRE</td>\n",
       "      <td>0.568222</td>\n",
       "    </tr>\n",
       "  </tbody>\n",
       "</table>\n",
       "</div>"
      ],
      "text/plain": [
       "  ApplicantID   JobID                                            title  \\\n",
       "0         326  316105                         Bookkeeper @ Accountemps   \n",
       "1         326  142577                            Auditor @ Accountemps   \n",
       "2         326  308009  Employment Specialist (PT) - Deaf & HoH @ AHEDD   \n",
       "3         326  272697                     AR/Collections @ Accountemps   \n",
       "4         326  136432             Collections Specialist @ Accountemps   \n",
       "5         326  286758                          A/P Clerk @ Accountemps   \n",
       "6         326  316108                   Staff Accountant @ Accountemps   \n",
       "7         326  273217                   Staff Accountant @ Accountemps   \n",
       "8         326  293877                  Financial Analyst @ Accountemps   \n",
       "9         326  294234                                    Intern @ CBRE   \n",
       "\n",
       "      score  \n",
       "0   0.71202  \n",
       "1  0.640437  \n",
       "2  0.613965  \n",
       "3   0.60072  \n",
       "4  0.590401  \n",
       "5  0.588502  \n",
       "6  0.577872  \n",
       "7  0.577872  \n",
       "8  0.570692  \n",
       "9  0.568222  "
      ]
     },
     "execution_count": 56,
     "metadata": {},
     "output_type": "execute_result"
    }
   ],
   "source": [
    "get_recommendation(index_spacy, df_all, list_scores)"
   ]
  },
  {
   "cell_type": "markdown",
   "id": "1a7534c5",
   "metadata": {},
   "source": [
    "## Using KNN"
   ]
  },
  {
   "cell_type": "code",
   "execution_count": 57,
   "id": "efe5eef4",
   "metadata": {},
   "outputs": [
    {
     "name": "stderr",
     "output_type": "stream",
     "text": [
      "c:\\Users\\ssart\\anaconda3\\envs\\myenv2\\lib\\site-packages\\sklearn\\utils\\validation.py:72: FutureWarning: Pass n_neighbors=11 as keyword args. From version 1.0 (renaming of 0.25) passing these as positional arguments will result in an error\n",
      "  \"will result in an error\", FutureWarning)\n"
     ]
    }
   ],
   "source": [
    "from sklearn.neighbors import NearestNeighbors\n",
    "n_neighbors = 11\n",
    "KNN = NearestNeighbors(n_neighbors, p=2)\n",
    "KNN.fit(tfidf_jobid)\n",
    "NNs = KNN.kneighbors(user_tfidf, return_distance=True)"
   ]
  },
  {
   "cell_type": "code",
   "execution_count": 58,
   "id": "42dee914",
   "metadata": {},
   "outputs": [
    {
     "data": {
      "text/plain": [
       "array([0.71988065, 0.72524925, 0.81034882, 0.84257062, 0.86541138,\n",
       "       0.90300462, 0.96929812, 0.98940985, 1.        , 1.        ])"
      ]
     },
     "execution_count": 58,
     "metadata": {},
     "output_type": "execute_result"
    }
   ],
   "source": [
    "NNs[0][0][1:]"
   ]
  },
  {
   "cell_type": "markdown",
   "id": "0f848771",
   "metadata": {},
   "source": [
    "## The top recommendations using KNN"
   ]
  },
  {
   "cell_type": "code",
   "execution_count": 59,
   "id": "834cc41e",
   "metadata": {},
   "outputs": [
    {
     "data": {
      "text/html": [
       "<div>\n",
       "<style scoped>\n",
       "    .dataframe tbody tr th:only-of-type {\n",
       "        vertical-align: middle;\n",
       "    }\n",
       "\n",
       "    .dataframe tbody tr th {\n",
       "        vertical-align: top;\n",
       "    }\n",
       "\n",
       "    .dataframe thead th {\n",
       "        text-align: right;\n",
       "    }\n",
       "</style>\n",
       "<table border=\"1\" class=\"dataframe\">\n",
       "  <thead>\n",
       "    <tr style=\"text-align: right;\">\n",
       "      <th></th>\n",
       "      <th>ApplicantID</th>\n",
       "      <th>JobID</th>\n",
       "      <th>title</th>\n",
       "      <th>score</th>\n",
       "    </tr>\n",
       "  </thead>\n",
       "  <tbody>\n",
       "    <tr>\n",
       "      <th>0</th>\n",
       "      <td>326</td>\n",
       "      <td>294684</td>\n",
       "      <td>Java Developer @ Kavaliro</td>\n",
       "      <td>0.719881</td>\n",
       "    </tr>\n",
       "    <tr>\n",
       "      <th>1</th>\n",
       "      <td>326</td>\n",
       "      <td>269922</td>\n",
       "      <td>Entry Level Java Developer / Jr. Java Develope...</td>\n",
       "      <td>0.725249</td>\n",
       "    </tr>\n",
       "    <tr>\n",
       "      <th>2</th>\n",
       "      <td>326</td>\n",
       "      <td>141831</td>\n",
       "      <td>Lead Java/J2EE Developer - Contract to Hire @ ...</td>\n",
       "      <td>0.810349</td>\n",
       "    </tr>\n",
       "    <tr>\n",
       "      <th>3</th>\n",
       "      <td>326</td>\n",
       "      <td>270171</td>\n",
       "      <td>Senior Java Developer - Contract to Hire - Gre...</td>\n",
       "      <td>0.842571</td>\n",
       "    </tr>\n",
       "    <tr>\n",
       "      <th>4</th>\n",
       "      <td>326</td>\n",
       "      <td>305264</td>\n",
       "      <td>Sr. Java Developer @ Paladin Consulting Inc</td>\n",
       "      <td>0.865411</td>\n",
       "    </tr>\n",
       "    <tr>\n",
       "      <th>5</th>\n",
       "      <td>326</td>\n",
       "      <td>309945</td>\n",
       "      <td>Java Software Engineer @ iTech Solutions, Inc.</td>\n",
       "      <td>0.903005</td>\n",
       "    </tr>\n",
       "    <tr>\n",
       "      <th>6</th>\n",
       "      <td>326</td>\n",
       "      <td>245753</td>\n",
       "      <td>Java Administrator @ ConsultNet</td>\n",
       "      <td>0.969298</td>\n",
       "    </tr>\n",
       "    <tr>\n",
       "      <th>7</th>\n",
       "      <td>326</td>\n",
       "      <td>146640</td>\n",
       "      <td>Jr. Java Developer @ Paladin Consulting Inc</td>\n",
       "      <td>0.98941</td>\n",
       "    </tr>\n",
       "    <tr>\n",
       "      <th>8</th>\n",
       "      <td>326</td>\n",
       "      <td>253863</td>\n",
       "      <td>Resident Assistant</td>\n",
       "      <td>1</td>\n",
       "    </tr>\n",
       "    <tr>\n",
       "      <th>9</th>\n",
       "      <td>326</td>\n",
       "      <td>246058</td>\n",
       "      <td>Dietary Aide</td>\n",
       "      <td>1</td>\n",
       "    </tr>\n",
       "  </tbody>\n",
       "</table>\n",
       "</div>"
      ],
      "text/plain": [
       "  ApplicantID   JobID                                              title  \\\n",
       "0         326  294684                          Java Developer @ Kavaliro   \n",
       "1         326  269922  Entry Level Java Developer / Jr. Java Develope...   \n",
       "2         326  141831  Lead Java/J2EE Developer - Contract to Hire @ ...   \n",
       "3         326  270171  Senior Java Developer - Contract to Hire - Gre...   \n",
       "4         326  305264        Sr. Java Developer @ Paladin Consulting Inc   \n",
       "5         326  309945     Java Software Engineer @ iTech Solutions, Inc.   \n",
       "6         326  245753                    Java Administrator @ ConsultNet   \n",
       "7         326  146640        Jr. Java Developer @ Paladin Consulting Inc   \n",
       "8         326  253863                                 Resident Assistant   \n",
       "9         326  246058                                       Dietary Aide   \n",
       "\n",
       "      score  \n",
       "0  0.719881  \n",
       "1  0.725249  \n",
       "2  0.810349  \n",
       "3  0.842571  \n",
       "4  0.865411  \n",
       "5  0.903005  \n",
       "6  0.969298  \n",
       "7   0.98941  \n",
       "8         1  \n",
       "9         1  "
      ]
     },
     "execution_count": 59,
     "metadata": {},
     "output_type": "execute_result"
    }
   ],
   "source": [
    "top = NNs[1][0][1:]\n",
    "index_score = NNs[0][0][1:]\n",
    "\n",
    "get_recommendation(top, df_all, index_score)"
   ]
  },
  {
   "cell_type": "code",
   "execution_count": null,
   "id": "25ac7c00",
   "metadata": {},
   "outputs": [],
   "source": []
  },
  {
   "cell_type": "code",
   "execution_count": null,
   "id": "9cadecee",
   "metadata": {},
   "outputs": [],
   "source": []
  },
  {
   "cell_type": "code",
   "execution_count": null,
   "id": "86f25d2d",
   "metadata": {},
   "outputs": [],
   "source": []
  },
  {
   "cell_type": "code",
   "execution_count": null,
   "id": "0cacbc6d",
   "metadata": {},
   "outputs": [],
   "source": []
  },
  {
   "cell_type": "code",
   "execution_count": null,
   "id": "d27050eb",
   "metadata": {},
   "outputs": [],
   "source": []
  }
 ],
 "metadata": {
  "kernelspec": {
   "display_name": "myenv2",
   "language": "python",
   "name": "python3"
  },
  "language_info": {
   "codemirror_mode": {
    "name": "ipython",
    "version": 3
   },
   "file_extension": ".py",
   "mimetype": "text/x-python",
   "name": "python",
   "nbconvert_exporter": "python",
   "pygments_lexer": "ipython3",
   "version": "3.6.13"
  }
 },
 "nbformat": 4,
 "nbformat_minor": 5
}
